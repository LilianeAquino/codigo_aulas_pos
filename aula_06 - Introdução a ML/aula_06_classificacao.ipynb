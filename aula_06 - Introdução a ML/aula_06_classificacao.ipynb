{
  "nbformat": 4,
  "nbformat_minor": 0,
  "metadata": {
    "kernelspec": {
      "display_name": "Python 3",
      "language": "python",
      "name": "python3"
    },
    "language_info": {
      "codemirror_mode": {
        "name": "ipython",
        "version": 3
      },
      "file_extension": ".py",
      "mimetype": "text/x-python",
      "name": "python",
      "nbconvert_exporter": "python",
      "pygments_lexer": "ipython3",
      "version": "3.7.3"
    },
    "colab": {
      "name": "aula_06_classificacao.ipynb",
      "provenance": [],
      "collapsed_sections": []
    }
  },
  "cells": [
    {
      "cell_type": "markdown",
      "metadata": {
        "id": "cXGWllDr_4VJ",
        "colab_type": "text"
      },
      "source": [
        "por: Matheus Araujo\n",
        "## Resumo da aula:\n",
        "\n",
        "* (80%) Introdução a Classificadores Lineares: Passo a Passo\n",
        "* (20%) Utilizando Classificador linear para iris setosa"
      ]
    },
    {
      "cell_type": "code",
      "metadata": {
        "id": "GmkjXn4q_4VP",
        "colab_type": "code",
        "colab": {}
      },
      "source": [
        "from numpy.random import normal\n",
        "import pandas as pd\n",
        "import matplotlib.pyplot as plt\n",
        "from sklearn.linear_model import LogisticRegression\n",
        "import numpy as np\n"
      ],
      "execution_count": 0,
      "outputs": []
    },
    {
      "cell_type": "code",
      "metadata": {
        "id": "pNwCPjE0_4VX",
        "colab_type": "code",
        "colab": {
          "base_uri": "https://localhost:8080/",
          "height": 238
        },
        "outputId": "2053e991-aa26-4b64-b277-5edf02c8da68"
      },
      "source": [
        "#Criando bolas azuis\n",
        "bolas_azuis = {}\n",
        "azul_peso_media = 50\n",
        "azul_raio_media = 150\n",
        "azul_peso_std = 10\n",
        "azul_raio_std = 15\n",
        "\n",
        "#normal(media, desvio, tamanho_amostra) : Retire amostras aleatórias de uma distribuição gaussiana\n",
        "\n",
        "bolas_azuis[\"peso\"] = normal(azul_peso_media, azul_peso_std, 100)\n",
        "bolas_azuis[\"raio\"] = normal(azul_raio_media, azul_raio_std , 100)\n",
        "bolas_azuis[\"classe\"] = \"azul\"\n",
        "\n",
        "bolas_azuis_df = pd.DataFrame(bolas_azuis) \n",
        "\n",
        "#Criando bolas vermelhas\n",
        "bolas_vermelhas = {}\n",
        "vermelho_peso_media = 40\n",
        "vermelho_raio_media = 100\n",
        "vermelho_peso_std = 5\n",
        "vermelho_raio_std = 30\n",
        "\n",
        "bolas_vermelhas[\"peso\"] = normal(vermelho_peso_media, vermelho_peso_std, 100)\n",
        "bolas_vermelhas[\"raio\"] = normal(vermelho_raio_media, vermelho_raio_std, 100)\n",
        "bolas_vermelhas[\"classe\"] = \"vermelho\"\n",
        "\n",
        "bolas_vermelhas_df = pd.DataFrame(bolas_vermelhas)\n",
        "\n",
        "print(bolas_vermelhas_df.head())\n",
        "print()\n",
        "print(bolas_azuis_df.head())"
      ],
      "execution_count": 3,
      "outputs": [
        {
          "output_type": "stream",
          "text": [
            "        peso        raio    classe\n",
            "0  40.770677  137.769788  vermelho\n",
            "1  36.903771   90.928832  vermelho\n",
            "2  41.323629   46.695747  vermelho\n",
            "3  31.247606  119.608592  vermelho\n",
            "4  44.727547   72.271559  vermelho\n",
            "\n",
            "        peso        raio classe\n",
            "0  77.087930  148.503163   azul\n",
            "1  45.858464  164.122145   azul\n",
            "2  43.460175  129.895784   azul\n",
            "3  45.587679  159.203634   azul\n",
            "4  47.256815  120.303345   azul\n"
          ],
          "name": "stdout"
        }
      ]
    },
    {
      "cell_type": "code",
      "metadata": {
        "id": "w7M1SarT_4Vf",
        "colab_type": "code",
        "colab": {
          "base_uri": "https://localhost:8080/",
          "height": 279
        },
        "outputId": "ef771d48-1150-44df-90d9-3540e516d9ac"
      },
      "source": [
        "ax = bolas_azuis_df.plot.scatter(\"peso\", \"raio\", c=\"b\")\n",
        "ax = bolas_vermelhas_df.plot.scatter(\"peso\", \"raio\",ax=ax, c=\"r\") #ax=ax para plotar no mesmo eixo"
      ],
      "execution_count": 5,
      "outputs": [
        {
          "output_type": "display_data",
          "data": {
            "image/png": "[encoded data removed]",
            "text/plain": [
              "<Figure size 432x288 with 1 Axes>"
            ]
          },
          "metadata": {
            "tags": []
          }
        }
      ]
    },
    {
      "cell_type": "code",
      "metadata": {
        "id": "cwpoB-C7_4Vn",
        "colab_type": "code",
        "colab": {
          "base_uri": "https://localhost:8080/",
          "height": 34
        },
        "outputId": "dd98630f-886c-40c7-f7c1-d222e61a892d"
      },
      "source": [
        "# Colocando as bolas dentro do mesmo caixa\n",
        "caixa_original_df = pd.concat([bolas_azuis_df, bolas_vermelhas_df])\n",
        "\n",
        "# Certifica que cada bola tem um index unico\n",
        "mapa_cor_classe = {\n",
        "    \"vermelho\" : 1,\n",
        "    \"azul\" : 0\n",
        "}\n",
        "\n",
        "# o parâmetro drop=True evita que o índice antigo seja adicionado como uma coluna\n",
        "caixa_original_df = caixa_original_df.reset_index(drop=True)\n",
        "\n",
        "caixa_original_df[\"classe\"] = caixa_original_df[\"classe\"].apply(lambda classe: mapa_cor_classe[classe])\n",
        "print(\"Numero de bolas: {}, Numero de Colunas: {}\".format(caixa_original_df.shape[0], caixa_original_df.shape[1]))"
      ],
      "execution_count": 7,
      "outputs": [
        {
          "output_type": "stream",
          "text": [
            "Numero de bolas: 200, Numero de Colunas: 3\n"
          ],
          "name": "stdout"
        }
      ]
    },
    {
      "cell_type": "code",
      "metadata": {
        "id": "LFm-RlGY_4Vv",
        "colab_type": "code",
        "colab": {
          "base_uri": "https://localhost:8080/",
          "height": 204
        },
        "outputId": "893a7080-62f7-41f9-af3c-139475c962f1"
      },
      "source": [
        "#Chacoalhando o caixa\n",
        "caixa_original_df = caixa_original_df.sample(frac=1)\n",
        "caixa_original_df.head()"
      ],
      "execution_count": 8,
      "outputs": [
        {
          "output_type": "execute_result",
          "data": {
            "text/html": [
              "<div>\n",
              "<style scoped>\n",
              "    .dataframe tbody tr th:only-of-type {\n",
              "        vertical-align: middle;\n",
              "    }\n",
              "\n",
              "    .dataframe tbody tr th {\n",
              "        vertical-align: top;\n",
              "    }\n",
              "\n",
              "    .dataframe thead th {\n",
              "        text-align: right;\n",
              "    }\n",
              "</style>\n",
              "<table border=\"1\" class=\"dataframe\">\n",
              "  <thead>\n",
              "    <tr style=\"text-align: right;\">\n",
              "      <th></th>\n",
              "      <th>peso</th>\n",
              "      <th>raio</th>\n",
              "      <th>classe</th>\n",
              "    </tr>\n",
              "  </thead>\n",
              "  <tbody>\n",
              "    <tr>\n",
              "      <th>153</th>\n",
              "      <td>52.064807</td>\n",
              "      <td>115.630045</td>\n",
              "      <td>1</td>\n",
              "    </tr>\n",
              "    <tr>\n",
              "      <th>109</th>\n",
              "      <td>36.772193</td>\n",
              "      <td>93.043225</td>\n",
              "      <td>1</td>\n",
              "    </tr>\n",
              "    <tr>\n",
              "      <th>105</th>\n",
              "      <td>47.822409</td>\n",
              "      <td>93.840555</td>\n",
              "      <td>1</td>\n",
              "    </tr>\n",
              "    <tr>\n",
              "      <th>162</th>\n",
              "      <td>45.774384</td>\n",
              "      <td>67.363531</td>\n",
              "      <td>1</td>\n",
              "    </tr>\n",
              "    <tr>\n",
              "      <th>139</th>\n",
              "      <td>37.272745</td>\n",
              "      <td>52.274281</td>\n",
              "      <td>1</td>\n",
              "    </tr>\n",
              "  </tbody>\n",
              "</table>\n",
              "</div>"
            ],
            "text/plain": [
              "          peso        raio  classe\n",
              "153  52.064807  115.630045       1\n",
              "109  36.772193   93.043225       1\n",
              "105  47.822409   93.840555       1\n",
              "162  45.774384   67.363531       1\n",
              "139  37.272745   52.274281       1"
            ]
          },
          "metadata": {
            "tags": []
          },
          "execution_count": 8
        }
      ]
    },
    {
      "cell_type": "code",
      "metadata": {
        "id": "Hkl4DHqY_4V2",
        "colab_type": "code",
        "colab": {
          "base_uri": "https://localhost:8080/",
          "height": 34
        },
        "outputId": "01ed9ffe-5458-4d66-e75e-68b841d83e33"
      },
      "source": [
        "#Pegando uma amostra de 40% da caixa e plotando\n",
        "\n",
        "amostra_df = caixa_original_df.sample(n=80) # Pegando amostra de 80 bolas\n",
        "caixa_df = caixa_original_df.drop(amostra_df.index) # Removendo bolas da caixa\n",
        "\n",
        "print(\"Bolas na caixa: {}, Bolas na amostra: {}\".format(caixa_df.shape[0], amostra_df.shape[0]))"
      ],
      "execution_count": 9,
      "outputs": [
        {
          "output_type": "stream",
          "text": [
            "Bolas na caixa: 120, Bolas na amostra: 80\n"
          ],
          "name": "stdout"
        }
      ]
    },
    {
      "cell_type": "markdown",
      "metadata": {
        "id": "57bDUc1W_4V8",
        "colab_type": "text"
      },
      "source": [
        "# Voce conseguiria adivinhar qual é classe de cada bola?"
      ]
    },
    {
      "cell_type": "code",
      "metadata": {
        "id": "tMfpfl-i_4V-",
        "colab_type": "code",
        "colab": {
          "base_uri": "https://localhost:8080/",
          "height": 296
        },
        "outputId": "4a295cad-a6ad-4fa8-c815-c25feadf1c0c"
      },
      "source": [
        "amostra_df.plot.scatter(\"peso\",\"raio\", c=\"k\") #parâmetro c = cor de cada ponto. Opcional."
      ],
      "execution_count": 10,
      "outputs": [
        {
          "output_type": "execute_result",
          "data": {
            "text/plain": [
              "<matplotlib.axes._subplots.AxesSubplot at 0x7fbbb5d93828>"
            ]
          },
          "metadata": {
            "tags": []
          },
          "execution_count": 10
        },
        {
          "output_type": "display_data",
          "data": {
            "image/png": "[encoded data removed]",
            "text/plain": [
              "<Figure size 432x288 with 1 Axes>"
            ]
          },
          "metadata": {
            "tags": []
          }
        }
      ]
    },
    {
      "cell_type": "code",
      "metadata": {
        "id": "LdeNPLRp_4WF",
        "colab_type": "code",
        "colab": {
          "base_uri": "https://localhost:8080/",
          "height": 381
        },
        "outputId": "97d69c41-6a5c-4359-8e7d-045de1c72847"
      },
      "source": [
        "# Imprimindo media e desvio padrão de cada feature (coluna) na amostra\n",
        "print(amostra_df.groupby(\"classe\").agg([\"mean\", \"std\"]))\n",
        "\n",
        "# Separando bolas azuis e bolas vermelhas da amostra\n",
        "bolas_azuis_amostra = amostra_df[amostra_df[\"classe\"] == 0]\n",
        "bolas_vermelhas_amostra = amostra_df[amostra_df[\"classe\"] == 1]\n",
        "\n",
        "# Mostrando a cor da amostra\n",
        "ax = bolas_azuis_amostra.plot.scatter(\"peso\", \"raio\", c=\"b\")\n",
        "bolas_vermelhas_amostra.plot.scatter(\"peso\", \"raio\", ax=ax, c=\"r\")\n"
      ],
      "execution_count": 11,
      "outputs": [
        {
          "output_type": "stream",
          "text": [
            "             peso                   raio           \n",
            "             mean        std        mean        std\n",
            "classe                                             \n",
            "0       48.736686  10.926033  151.852751  15.480359\n",
            "1       40.679067   4.365465  105.938422  27.919347\n"
          ],
          "name": "stdout"
        },
        {
          "output_type": "execute_result",
          "data": {
            "text/plain": [
              "<matplotlib.axes._subplots.AxesSubplot at 0x7fbbb5d40c88>"
            ]
          },
          "metadata": {
            "tags": []
          },
          "execution_count": 11
        },
        {
          "output_type": "display_data",
          "data": {
            "image/png": "[encoded data removed]",
            "text/plain": [
              "<Figure size 432x288 with 1 Axes>"
            ]
          },
          "metadata": {
            "tags": []
          }
        }
      ]
    },
    {
      "cell_type": "code",
      "metadata": {
        "scrolled": true,
        "id": "DOcaTUQ__4WM",
        "colab_type": "code",
        "colab": {
          "base_uri": "https://localhost:8080/",
          "height": 207
        },
        "outputId": "5c17bd69-696a-421b-ac89-f196e7ac6462"
      },
      "source": [
        "#É comum usar 42 (ou qualquer inteiro) como random_state (para mais informações consulte\n",
        "#o guia do mochileiro das galáxias.): para propagar a amostra. O sample será sempre o mesmo.\n",
        "\n",
        "#Definindo classificador\n",
        "clf = LogisticRegression()\n",
        "\n",
        "# Definindo vetores de features\n",
        "X = amostra_df[[\"peso\", \"raio\"]].values\n",
        "print(X[:2])\n",
        "\n",
        "# Definindo vetor da variavel alvo\n",
        "Y = amostra_df[\"classe\"].values\n",
        "print(Y[:2])\n",
        "\n",
        "# Treinando o classificador com os dados da amostra\n",
        "clf.fit(X,Y)"
      ],
      "execution_count": 14,
      "outputs": [
        {
          "output_type": "stream",
          "text": [
            "[[ 42.22374998 121.68595268]\n",
            " [ 46.77512303 143.54129668]]\n",
            "[1 1]\n"
          ],
          "name": "stdout"
        },
        {
          "output_type": "stream",
          "text": [
            "/usr/local/lib/python3.6/dist-packages/sklearn/linear_model/logistic.py:432: FutureWarning: Default solver will be changed to 'lbfgs' in 0.22. Specify a solver to silence this warning.\n",
            "  FutureWarning)\n"
          ],
          "name": "stderr"
        },
        {
          "output_type": "execute_result",
          "data": {
            "text/plain": [
              "LogisticRegression(C=1.0, class_weight=None, dual=False, fit_intercept=True,\n",
              "                   intercept_scaling=1, l1_ratio=None, max_iter=100,\n",
              "                   multi_class='warn', n_jobs=None, penalty='l2',\n",
              "                   random_state=None, solver='warn', tol=0.0001, verbose=0,\n",
              "                   warm_start=False)"
            ]
          },
          "metadata": {
            "tags": []
          },
          "execution_count": 14
        }
      ]
    },
    {
      "cell_type": "code",
      "metadata": {
        "id": "8UO1Nys-_4WS",
        "colab_type": "code",
        "colab": {}
      },
      "source": [
        "#Função auxiliar para plotar o hiperplano do classificador linear\n",
        "def plot_hiperplano(clf, ax=None):\n",
        "    global amostra_df #global para definir uma variável de escopo global\n",
        "\n",
        "    #O coeficiente de variação é usado para analisar a dispersão em termos relativos a média\n",
        "    w = clf.coef_[0]\n",
        "\n",
        "    # Criando hiperplano (linha)\n",
        "    m = -w[0] / w[1]\n",
        "    \n",
        "    #linspace = cria uma seqüência de números uniformemente espaçados entre os limites dados.\n",
        "    xx = np.linspace(amostra_df[\"peso\"].min(), amostra_df[\"peso\"].max())\n",
        "    \n",
        "    # Formula da reta: a*x + by + c = 0\n",
        "    # Logo: y = -ax/b -c/b    \n",
        "    yy = m * xx - (clf.intercept_[0]) / w[1]\n",
        "    # Plotando hiperplano\n",
        "    if ax:\n",
        "        ax.plot(xx, yy)\n",
        "    else:        \n",
        "        plt.plot(xx, yy)\n",
        "        plt.xlim(amostra_df[\"peso\"].min(), amostra_df[\"peso\"].max())\n",
        "        plt.ylim(amostra_df[\"raio\"].min(), amostra_df[\"raio\"].max())\n",
        "        \n",
        "        \n"
      ],
      "execution_count": 0,
      "outputs": []
    },
    {
      "cell_type": "code",
      "metadata": {
        "scrolled": false,
        "id": "v8B6hOPN_4Wb",
        "colab_type": "code",
        "colab": {
          "base_uri": "https://localhost:8080/",
          "height": 282
        },
        "outputId": "01b84ef8-c26c-40c6-c7fb-5d5bdf84c6ab"
      },
      "source": [
        "# Plotando o Classificador linear\n",
        "plot_hiperplano(clf)"
      ],
      "execution_count": 17,
      "outputs": [
        {
          "output_type": "stream",
          "text": [
            "[ 0.01605649 -0.03060069]\n"
          ],
          "name": "stdout"
        },
        {
          "output_type": "display_data",
          "data": {
            "image/png": "[encoded data removed]",
            "text/plain": [
              "<Figure size 432x288 with 1 Axes>"
            ]
          },
          "metadata": {
            "tags": []
          }
        }
      ]
    },
    {
      "cell_type": "code",
      "metadata": {
        "id": "bz_9DDkb_4Wk",
        "colab_type": "code",
        "colab": {
          "base_uri": "https://localhost:8080/",
          "height": 296
        },
        "outputId": "d3524015-95d0-4375-de64-42f7121bcea4"
      },
      "source": [
        "# Plotando o classificador linear junto com nossa amostra\n",
        "ax = amostra_df[amostra_df[\"classe\"] == 0].plot.scatter(\"peso\", \"raio\", c=\"b\")\n",
        "amostra_df[amostra_df[\"classe\"] == 1].plot.scatter(\"peso\", \"raio\", ax=ax, c=\"r\")\n",
        "plot_hiperplano(clf,ax)"
      ],
      "execution_count": 18,
      "outputs": [
        {
          "output_type": "stream",
          "text": [
            "[ 0.01605649 -0.03060069]\n"
          ],
          "name": "stdout"
        },
        {
          "output_type": "display_data",
          "data": {
            "image/png": "[encoded data removed]",
            "text/plain": [
              "<Figure size 432x288 with 1 Axes>"
            ]
          },
          "metadata": {
            "tags": []
          }
        }
      ]
    },
    {
      "cell_type": "markdown",
      "metadata": {
        "id": "4l5zHuWh_4Wu",
        "colab_type": "text"
      },
      "source": [
        "## Qual é a performance do nosso classificador na amostra?"
      ]
    },
    {
      "cell_type": "code",
      "metadata": {
        "id": "T9WkHyhU_4Ww",
        "colab_type": "code",
        "colab": {
          "base_uri": "https://localhost:8080/",
          "height": 34
        },
        "outputId": "d6242c7a-80bc-43a1-f4db-1b48e362f615"
      },
      "source": [
        "acuracia_meadia_amostra = clf.score(X,Y)\n",
        "print(\"Acuracia Media\", acuracia_meadia_amostra)"
      ],
      "execution_count": 19,
      "outputs": [
        {
          "output_type": "stream",
          "text": [
            "Acuracia Media 0.85\n"
          ],
          "name": "stdout"
        }
      ]
    },
    {
      "cell_type": "markdown",
      "metadata": {
        "id": "cQXYtfhL_4W4",
        "colab_type": "text"
      },
      "source": [
        "# Vamos retirar mais bolas"
      ]
    },
    {
      "cell_type": "code",
      "metadata": {
        "id": "OLf--8wD_4W7",
        "colab_type": "code",
        "colab": {
          "base_uri": "https://localhost:8080/",
          "height": 119
        },
        "outputId": "3d9f7fe7-e169-40d4-c897-aedf047140ef"
      },
      "source": [
        "# Pegando primeira bola da caixa e utilizando o classificador\n",
        "bola_x = caixa_df.iloc[0] # Escolhendo bola\n",
        "caixa_df = caixa_df.drop(bola_x.name, errors=\"ignore\") # Removendo bola\n",
        "print(\"Bolas na Caixa: {}\".format(caixa_df.shape[0]))\n",
        "print(\"Bola Removida:\")\n",
        "bola_x"
      ],
      "execution_count": 20,
      "outputs": [
        {
          "output_type": "stream",
          "text": [
            "Bolas na Caixa: 119\n",
            "Bola Removida:\n"
          ],
          "name": "stdout"
        },
        {
          "output_type": "execute_result",
          "data": {
            "text/plain": [
              "peso      47.822409\n",
              "raio      93.840555\n",
              "classe     1.000000\n",
              "Name: 105, dtype: float64"
            ]
          },
          "metadata": {
            "tags": []
          },
          "execution_count": 20
        }
      ]
    },
    {
      "cell_type": "code",
      "metadata": {
        "id": "H50UULGI_4XD",
        "colab_type": "code",
        "colab": {
          "base_uri": "https://localhost:8080/",
          "height": 34
        },
        "outputId": "bdcb733b-0cda-41d7-935c-8c4a88f0001a"
      },
      "source": [
        "classe_prevista = clf.predict(bola_x[[\"peso\", \"raio\"]].values.reshape(1,-1))[0]\n",
        "print(\"Classe Prevista: {}\".format(classe_prevista))"
      ],
      "execution_count": 21,
      "outputs": [
        {
          "output_type": "stream",
          "text": [
            "Classe Prevista: 1\n"
          ],
          "name": "stdout"
        }
      ]
    },
    {
      "cell_type": "code",
      "metadata": {
        "id": "7IChnUfG_4XM",
        "colab_type": "code",
        "colab": {
          "base_uri": "https://localhost:8080/",
          "height": 34
        },
        "outputId": "a6fe44ff-3f17-4055-f3dc-bb4310fecb12"
      },
      "source": [
        "mapa_class_cor = {\n",
        "    1 : \"vermelho\",\n",
        "    0 : \"azul\"\n",
        "}\n",
        "print(\"Classe Prevista: {}\".format(mapa_class_cor[classe_prevista]))"
      ],
      "execution_count": 22,
      "outputs": [
        {
          "output_type": "stream",
          "text": [
            "Classe Prevista: vermelho\n"
          ],
          "name": "stdout"
        }
      ]
    },
    {
      "cell_type": "markdown",
      "metadata": {
        "id": "_7NH_ris_4XU",
        "colab_type": "text"
      },
      "source": [
        "# Classificando o resto da caixa"
      ]
    },
    {
      "cell_type": "code",
      "metadata": {
        "id": "nXOJo7Fh_4XW",
        "colab_type": "code",
        "colab": {
          "base_uri": "https://localhost:8080/",
          "height": 34
        },
        "outputId": "ca68d1e4-c5dc-4f8b-da59-850463933113"
      },
      "source": [
        "print(\"Bolas na caixa: {}\".format(caixa_df.shape[0]))"
      ],
      "execution_count": 23,
      "outputs": [
        {
          "output_type": "stream",
          "text": [
            "Bolas na caixa: 119\n"
          ],
          "name": "stdout"
        }
      ]
    },
    {
      "cell_type": "code",
      "metadata": {
        "id": "2u4NPuDW_4Xe",
        "colab_type": "code",
        "colab": {
          "base_uri": "https://localhost:8080/",
          "height": 34
        },
        "outputId": "5571725a-f7d1-4a34-b5fa-8920293ad9a6"
      },
      "source": [
        "bolas_previsoes = clf.predict(caixa_df[[\"peso\", \"raio\"]].values)\n",
        "bolas_previsoes_cores = list(map(lambda classe: mapa_class_cor[classe], bolas_previsoes))\n",
        "print(\"Primeiras 10 bolas na caixa são: {}\".format(bolas_previsoes_cores[:10]))"
      ],
      "execution_count": 24,
      "outputs": [
        {
          "output_type": "stream",
          "text": [
            "Primeiras 10 bolas na caixa são: ['vermelho', 'vermelho', 'azul', 'azul', 'azul', 'azul', 'azul', 'vermelho', 'vermelho', 'azul']\n"
          ],
          "name": "stdout"
        }
      ]
    },
    {
      "cell_type": "code",
      "metadata": {
        "id": "TSr7fZT4_4Xl",
        "colab_type": "code",
        "colab": {
          "base_uri": "https://localhost:8080/",
          "height": 204
        },
        "outputId": "163a282f-eb4b-4996-adfe-daffbf2ba911"
      },
      "source": [
        "caixa_df[\"previsao\"] = bolas_previsoes\n",
        "caixa_df.head()"
      ],
      "execution_count": 25,
      "outputs": [
        {
          "output_type": "execute_result",
          "data": {
            "text/html": [
              "<div>\n",
              "<style scoped>\n",
              "    .dataframe tbody tr th:only-of-type {\n",
              "        vertical-align: middle;\n",
              "    }\n",
              "\n",
              "    .dataframe tbody tr th {\n",
              "        vertical-align: top;\n",
              "    }\n",
              "\n",
              "    .dataframe thead th {\n",
              "        text-align: right;\n",
              "    }\n",
              "</style>\n",
              "<table border=\"1\" class=\"dataframe\">\n",
              "  <thead>\n",
              "    <tr style=\"text-align: right;\">\n",
              "      <th></th>\n",
              "      <th>peso</th>\n",
              "      <th>raio</th>\n",
              "      <th>classe</th>\n",
              "      <th>previsao</th>\n",
              "    </tr>\n",
              "  </thead>\n",
              "  <tbody>\n",
              "    <tr>\n",
              "      <th>162</th>\n",
              "      <td>45.774384</td>\n",
              "      <td>67.363531</td>\n",
              "      <td>1</td>\n",
              "      <td>1</td>\n",
              "    </tr>\n",
              "    <tr>\n",
              "      <th>139</th>\n",
              "      <td>37.272745</td>\n",
              "      <td>52.274281</td>\n",
              "      <td>1</td>\n",
              "      <td>1</td>\n",
              "    </tr>\n",
              "    <tr>\n",
              "      <th>78</th>\n",
              "      <td>32.219642</td>\n",
              "      <td>165.045102</td>\n",
              "      <td>0</td>\n",
              "      <td>0</td>\n",
              "    </tr>\n",
              "    <tr>\n",
              "      <th>51</th>\n",
              "      <td>46.047250</td>\n",
              "      <td>161.882821</td>\n",
              "      <td>0</td>\n",
              "      <td>0</td>\n",
              "    </tr>\n",
              "    <tr>\n",
              "      <th>188</th>\n",
              "      <td>41.705827</td>\n",
              "      <td>133.792488</td>\n",
              "      <td>1</td>\n",
              "      <td>0</td>\n",
              "    </tr>\n",
              "  </tbody>\n",
              "</table>\n",
              "</div>"
            ],
            "text/plain": [
              "          peso        raio  classe  previsao\n",
              "162  45.774384   67.363531       1         1\n",
              "139  37.272745   52.274281       1         1\n",
              "78   32.219642  165.045102       0         0\n",
              "51   46.047250  161.882821       0         0\n",
              "188  41.705827  133.792488       1         0"
            ]
          },
          "metadata": {
            "tags": []
          },
          "execution_count": 25
        }
      ]
    },
    {
      "cell_type": "markdown",
      "metadata": {
        "id": "q8Q4jIYW_4Xx",
        "colab_type": "text"
      },
      "source": [
        "## Qual é a performace do nosso classificador para o resto da caixa?\n",
        "\n",
        "**!Importante:** Lembre-se que o classficador foi treinado com as amostras. As bolas dentro da caixa nunca foram vistas antes."
      ]
    },
    {
      "cell_type": "code",
      "metadata": {
        "id": "_QSz3LOF_4Xz",
        "colab_type": "code",
        "colab": {
          "base_uri": "https://localhost:8080/",
          "height": 34
        },
        "outputId": "f12bbdb1-2424-4daa-f312-d04ce9141aa0"
      },
      "source": [
        "X_caixa = caixa_df[[\"peso\", \"raio\"]].values \n",
        "Y_caixa = caixa_df[[\"classe\"]].values\n",
        "acuracia_media_caixa = clf.score(X_caixa, Y_caixa)\n",
        "print(\"Acuracia média na caixa: {:.2f}%\".format(acuracia_media_caixa*100))"
      ],
      "execution_count": 26,
      "outputs": [
        {
          "output_type": "stream",
          "text": [
            "Acuracia média na caixa: 79.83%\n"
          ],
          "name": "stdout"
        }
      ]
    },
    {
      "cell_type": "markdown",
      "metadata": {
        "id": "KOHUDZqO_4X7",
        "colab_type": "text"
      },
      "source": [
        "## Desmitificando calculo da acuracia média"
      ]
    },
    {
      "cell_type": "code",
      "metadata": {
        "scrolled": true,
        "id": "l6gaZWQh_4X-",
        "colab_type": "code",
        "colab": {
          "base_uri": "https://localhost:8080/",
          "height": 68
        },
        "outputId": "ce7d6569-ded7-4a63-a013-51a986d28469"
      },
      "source": [
        "total = caixa_df.shape[0]\n",
        "acertou = 0\n",
        "for index, bola in caixa_df.iterrows():\n",
        "    if bola[\"classe\"] == bola[\"previsao\"]:\n",
        "        acertou += 1\n",
        "print(\"Acertou: {}\\nErrou: {}\\nAcuracia na Caixa: {:.2f}%\".format(acertou, total - acertou, (acertou/total) * 100))"
      ],
      "execution_count": 27,
      "outputs": [
        {
          "output_type": "stream",
          "text": [
            "Acertou: 95\n",
            "Errou: 24\n",
            "Acuracia na Caixa: 79.83%\n"
          ],
          "name": "stdout"
        }
      ]
    },
    {
      "cell_type": "code",
      "metadata": {
        "id": "wvMfAyeM_4YE",
        "colab_type": "code",
        "colab": {
          "base_uri": "https://localhost:8080/",
          "height": 315
        },
        "outputId": "13326979-bf5a-4e1c-d4e5-87a85e06d6bd"
      },
      "source": [
        "print(\"Acuracia Amostra: {}, Acuracia Caixa: {} \".format(acuracia_meadia_amostra, acuracia_media_caixa))\n",
        "\n",
        "# Utilizando matplotlib para fazer um grafico de barras\n",
        "acuracias_nomes = ['Acc. Amostra', 'Acc. Caixa']\n",
        "y_pos = np.arange(len(acuracias_nomes))\n",
        "acuracias = [acuracia_meadia_amostra, acuracia_media_caixa]\n",
        "plt.bar(y_pos, acuracias, align='center', color=\"r\")\n",
        "\n",
        "# Colocando nomes no eixo\n",
        "plt.xticks(y_pos, acuracias_nomes)\n",
        "plt.ylim(0,1)\n",
        "plt.ylabel('Acurácia Média')\n",
        "plt.title('Desempenho do Classificador de Bolas')"
      ],
      "execution_count": 28,
      "outputs": [
        {
          "output_type": "stream",
          "text": [
            "Acuracia Amostra: 0.85, Acuracia Caixa: 0.7983193277310925 \n"
          ],
          "name": "stdout"
        },
        {
          "output_type": "execute_result",
          "data": {
            "text/plain": [
              "Text(0.5, 1.0, 'Desempenho do Classificador de Bolas')"
            ]
          },
          "metadata": {
            "tags": []
          },
          "execution_count": 28
        },
        {
          "output_type": "display_data",
          "data": {
            "image/png": "[encoded data removed]",
            "text/plain": [
              "<Figure size 432x288 with 1 Axes>"
            ]
          },
          "metadata": {
            "tags": []
          }
        }
      ]
    },
    {
      "cell_type": "code",
      "metadata": {
        "id": "3Zt9bUo1_4YO",
        "colab_type": "code",
        "colab": {}
      },
      "source": [
        ""
      ],
      "execution_count": 0,
      "outputs": []
    }
  ]
}