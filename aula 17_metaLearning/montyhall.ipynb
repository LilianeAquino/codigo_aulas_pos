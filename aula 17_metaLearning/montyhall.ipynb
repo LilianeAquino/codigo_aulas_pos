{
 "cells": [
  {
   "cell_type": "code",
   "execution_count": 1,
   "metadata": {
    "colab": {},
    "colab_type": "code",
    "id": "i5ls4Farr81-"
   },
   "outputs": [],
   "source": [
    "import numpy as np \n",
    "import random"
   ]
  },
  {
   "cell_type": "code",
   "execution_count": 2,
   "metadata": {
    "colab": {},
    "colab_type": "code",
    "id": "Ltb61BriscOp"
   },
   "outputs": [],
   "source": [
    "resposta_correta = 1\n",
    "nroTentativas = 20000"
   ]
  },
  {
   "cell_type": "code",
   "execution_count": 6,
   "metadata": {
    "colab": {
     "base_uri": "https://localhost:8080/",
     "height": 51
    },
    "colab_type": "code",
    "id": "wNl1MGUFtswB",
    "outputId": "57792704-9131-47f3-dc05-3b2faae1aa90"
   },
   "outputs": [
    {
     "ename": "IndentationError",
     "evalue": "unindent does not match any outer indentation level (<tokenize>, line 20)",
     "output_type": "error",
     "traceback": [
      "\u001b[0;36m  File \u001b[0;32m\"<tokenize>\"\u001b[0;36m, line \u001b[0;32m20\u001b[0m\n\u001b[0;31m    return totalAcertos\u001b[0m\n\u001b[0m    ^\u001b[0m\n\u001b[0;31mIndentationError\u001b[0m\u001b[0;31m:\u001b[0m unindent does not match any outer indentation level\n"
     ]
    }
   ],
   "source": [
    "def respostaEstaCorreta(palpite):\n",
    "    return palpite == resposta_correta\n",
    "\n",
    "def calcularProbabilidadeAcerto(trocaPorta):\n",
    "    totalAcertos = 0\n",
    "    for x in range(nroTentativas):\n",
    "        possibilidades = [1, 2, 3]\n",
    "        palpite = random.choice(possibilidades)\n",
    "\n",
    "        if respostaEstaCorreta(palpite):\n",
    "            totalAcertos += 1\n",
    "        elif (trocaPorta):      \n",
    "            possibilidades.remove(palpite)\n",
    "            palpite = random.choice(possibilidades)\n",
    "\n",
    "    if respostaEstaCorreta(palpite):\n",
    "        totalAcertos += 1\n",
    "  \n",
    "  return totalAcertos\n",
    "\n",
    "print('Trocando a porta: ', calcularProbabilidadeAcerto(True) / nroTentativas * 100, '%')\n",
    "print('Sem trocar a porta: ', calcularProbabilidadeAcerto(False) / nroTentativas * 100, '%')"
   ]
  },
  {
   "cell_type": "code",
   "execution_count": null,
   "metadata": {},
   "outputs": [],
   "source": []
  }
 ],
 "metadata": {
  "colab": {
   "name": "montyhall.ipynb",
   "provenance": []
  },
  "kernelspec": {
   "display_name": "Python 3",
   "language": "python",
   "name": "python3"
  },
  "language_info": {
   "codemirror_mode": {
    "name": "ipython",
    "version": 3
   },
   "file_extension": ".py",
   "mimetype": "text/x-python",
   "name": "python",
   "nbconvert_exporter": "python",
   "pygments_lexer": "ipython3",
   "version": "3.7.3"
  }
 },
 "nbformat": 4,
 "nbformat_minor": 1
}
