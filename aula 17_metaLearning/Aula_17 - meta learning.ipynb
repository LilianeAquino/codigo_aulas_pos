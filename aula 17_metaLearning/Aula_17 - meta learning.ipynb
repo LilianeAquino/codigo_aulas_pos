{
 "cells": [
  {
   "cell_type": "markdown",
   "metadata": {
    "colab_type": "text",
    "id": "qpV9zGSoY8sm"
   },
   "source": [
    "# Aula 17 - Meta-Learning\n",
    "\n",
    "- Boosting, Bagging and Stacking"
   ]
  },
  {
   "cell_type": "markdown",
   "metadata": {},
   "source": [
    "#### Imports das bibliotecas"
   ]
  },
  {
   "cell_type": "code",
   "execution_count": 1,
   "metadata": {
    "ExecuteTime": {
     "end_time": "2020-03-09T16:18:12.890443Z",
     "start_time": "2020-03-09T16:18:08.019273Z"
    },
    "colab": {},
    "colab_type": "code",
    "id": "sMN1LbH0gg2x"
   },
   "outputs": [
    {
     "name": "stdout",
     "output_type": "stream",
     "text": [
      "Requirement already satisfied: pydataset in /home/liliane-hop/anaconda3/lib/python3.7/site-packages (0.2.0)\r\n",
      "Requirement already satisfied: pandas in /home/liliane-hop/.local/lib/python3.7/site-packages (from pydataset) (0.24.2)\r\n",
      "Requirement already satisfied: pytz>=2011k in /home/liliane-hop/anaconda3/lib/python3.7/site-packages (from pandas->pydataset) (2019.3)\r\n",
      "Requirement already satisfied: numpy>=1.12.0 in /home/liliane-hop/.local/lib/python3.7/site-packages (from pandas->pydataset) (1.17.4)\r\n",
      "Requirement already satisfied: python-dateutil>=2.5.0 in /home/liliane-hop/anaconda3/lib/python3.7/site-packages (from pandas->pydataset) (2.8.1)\r\n",
      "Requirement already satisfied: six>=1.5 in /home/liliane-hop/anaconda3/lib/python3.7/site-packages (from python-dateutil>=2.5.0->pandas->pydataset) (1.14.0)\r\n"
     ]
    }
   ],
   "source": [
    "!pip install pydataset\n",
    "\n",
    "import numpy as np\n",
    "import pandas as pd\n",
    "import seaborn as sns\n",
    "from pydataset import data\n",
    "import matplotlib.pyplot as plt\n",
    "from sklearn.metrics import accuracy_score\n",
    "from sklearn.model_selection import cross_val_score\n",
    "\n",
    "%matplotlib inline"
   ]
  },
  {
   "cell_type": "markdown",
   "metadata": {},
   "source": [
    "#### Carregando os dados"
   ]
  },
  {
   "cell_type": "code",
   "execution_count": 2,
   "metadata": {
    "ExecuteTime": {
     "end_time": "2020-03-09T16:18:12.924008Z",
     "start_time": "2020-03-09T16:18:12.894257Z"
    },
    "colab": {
     "base_uri": "https://localhost:8080/",
     "height": 204
    },
    "colab_type": "code",
    "id": "93fSDUbrhnw4",
    "outputId": "4df8c7b2-0f86-4714-b915-3fe0e161c85d"
   },
   "outputs": [],
   "source": [
    "dataset = data('Housing')"
   ]
  },
  {
   "cell_type": "markdown",
   "metadata": {},
   "source": [
    "#### Descrição"
   ]
  },
  {
   "cell_type": "markdown",
   "metadata": {},
   "source": [
    "O conjunto contêm 546 observações sobre os preços de venda de casas vendidas em julho, agosto e setembro de 1987 na cidade de Windsor, Canadá."
   ]
  },
  {
   "cell_type": "markdown",
   "metadata": {},
   "source": [
    "- **price**: preço de venda de uma casa\n",
    "- **lotsize**: tamanho do lote em pés quadrados\n",
    "- **bedrooms**: número de quartos\n",
    "- **bathrms**: número de banheiros completos\n",
    "- **stories**: número de andares (excluindo porão)\n",
    "- **driveway**: garagem\n",
    "- **recroom**: sala de recreação\n",
    "- **fullbase**: porão completo\n",
    "- **gashw**: gás para aquecimento de água quente\n",
    "- **airco**: ar condicionado central\n",
    "- **garagepl**: número de vagas na garagem \n",
    "- **prefarea**: se é localizado no bairro preferido da cidade"
   ]
  },
  {
   "cell_type": "markdown",
   "metadata": {},
   "source": [
    "#### Exploração dos dados"
   ]
  },
  {
   "cell_type": "code",
   "execution_count": 3,
   "metadata": {
    "ExecuteTime": {
     "end_time": "2020-03-09T16:18:13.219189Z",
     "start_time": "2020-03-09T16:18:12.926362Z"
    }
   },
   "outputs": [
    {
     "data": {
      "text/html": [
       "<div>\n",
       "<style scoped>\n",
       "    .dataframe tbody tr th:only-of-type {\n",
       "        vertical-align: middle;\n",
       "    }\n",
       "\n",
       "    .dataframe tbody tr th {\n",
       "        vertical-align: top;\n",
       "    }\n",
       "\n",
       "    .dataframe thead th {\n",
       "        text-align: right;\n",
       "    }\n",
       "</style>\n",
       "<table border=\"1\" class=\"dataframe\">\n",
       "  <thead>\n",
       "    <tr style=\"text-align: right;\">\n",
       "      <th></th>\n",
       "      <th>price</th>\n",
       "      <th>lotsize</th>\n",
       "      <th>bedrooms</th>\n",
       "      <th>bathrms</th>\n",
       "      <th>stories</th>\n",
       "      <th>driveway</th>\n",
       "      <th>recroom</th>\n",
       "      <th>fullbase</th>\n",
       "      <th>gashw</th>\n",
       "      <th>airco</th>\n",
       "      <th>garagepl</th>\n",
       "      <th>prefarea</th>\n",
       "    </tr>\n",
       "  </thead>\n",
       "  <tbody>\n",
       "    <tr>\n",
       "      <th>1</th>\n",
       "      <td>42000.0</td>\n",
       "      <td>5850</td>\n",
       "      <td>3</td>\n",
       "      <td>1</td>\n",
       "      <td>2</td>\n",
       "      <td>yes</td>\n",
       "      <td>no</td>\n",
       "      <td>yes</td>\n",
       "      <td>no</td>\n",
       "      <td>no</td>\n",
       "      <td>1</td>\n",
       "      <td>no</td>\n",
       "    </tr>\n",
       "    <tr>\n",
       "      <th>2</th>\n",
       "      <td>38500.0</td>\n",
       "      <td>4000</td>\n",
       "      <td>2</td>\n",
       "      <td>1</td>\n",
       "      <td>1</td>\n",
       "      <td>yes</td>\n",
       "      <td>no</td>\n",
       "      <td>no</td>\n",
       "      <td>no</td>\n",
       "      <td>no</td>\n",
       "      <td>0</td>\n",
       "      <td>no</td>\n",
       "    </tr>\n",
       "    <tr>\n",
       "      <th>3</th>\n",
       "      <td>49500.0</td>\n",
       "      <td>3060</td>\n",
       "      <td>3</td>\n",
       "      <td>1</td>\n",
       "      <td>1</td>\n",
       "      <td>yes</td>\n",
       "      <td>no</td>\n",
       "      <td>no</td>\n",
       "      <td>no</td>\n",
       "      <td>no</td>\n",
       "      <td>0</td>\n",
       "      <td>no</td>\n",
       "    </tr>\n",
       "    <tr>\n",
       "      <th>4</th>\n",
       "      <td>60500.0</td>\n",
       "      <td>6650</td>\n",
       "      <td>3</td>\n",
       "      <td>1</td>\n",
       "      <td>2</td>\n",
       "      <td>yes</td>\n",
       "      <td>yes</td>\n",
       "      <td>no</td>\n",
       "      <td>no</td>\n",
       "      <td>no</td>\n",
       "      <td>0</td>\n",
       "      <td>no</td>\n",
       "    </tr>\n",
       "    <tr>\n",
       "      <th>5</th>\n",
       "      <td>61000.0</td>\n",
       "      <td>6360</td>\n",
       "      <td>2</td>\n",
       "      <td>1</td>\n",
       "      <td>1</td>\n",
       "      <td>yes</td>\n",
       "      <td>no</td>\n",
       "      <td>no</td>\n",
       "      <td>no</td>\n",
       "      <td>no</td>\n",
       "      <td>0</td>\n",
       "      <td>no</td>\n",
       "    </tr>\n",
       "  </tbody>\n",
       "</table>\n",
       "</div>"
      ],
      "text/plain": [
       "     price  lotsize  bedrooms  bathrms  stories driveway recroom fullbase  \\\n",
       "1  42000.0     5850         3        1        2      yes      no      yes   \n",
       "2  38500.0     4000         2        1        1      yes      no       no   \n",
       "3  49500.0     3060         3        1        1      yes      no       no   \n",
       "4  60500.0     6650         3        1        2      yes     yes       no   \n",
       "5  61000.0     6360         2        1        1      yes      no       no   \n",
       "\n",
       "  gashw airco  garagepl prefarea  \n",
       "1    no    no         1       no  \n",
       "2    no    no         0       no  \n",
       "3    no    no         0       no  \n",
       "4    no    no         0       no  \n",
       "5    no    no         0       no  "
      ]
     },
     "execution_count": 3,
     "metadata": {},
     "output_type": "execute_result"
    }
   ],
   "source": [
    "dataset.head()"
   ]
  },
  {
   "cell_type": "code",
   "execution_count": 4,
   "metadata": {
    "ExecuteTime": {
     "end_time": "2020-03-09T16:18:13.376075Z",
     "start_time": "2020-03-09T16:18:13.222558Z"
    }
   },
   "outputs": [
    {
     "name": "stdout",
     "output_type": "stream",
     "text": [
      "Linhas: 546 e colunas: 12\n"
     ]
    }
   ],
   "source": [
    "print('Linhas: {} e colunas: {}'.format(dataset.shape[0], dataset.shape[1]))"
   ]
  },
  {
   "cell_type": "code",
   "execution_count": 5,
   "metadata": {
    "ExecuteTime": {
     "end_time": "2020-03-09T16:18:13.534796Z",
     "start_time": "2020-03-09T16:18:13.378439Z"
    }
   },
   "outputs": [
    {
     "name": "stdout",
     "output_type": "stream",
     "text": [
      "Colunas presentes: Index(['price', 'lotsize', 'bedrooms', 'bathrms', 'stories', 'driveway',\n",
      "       'recroom', 'fullbase', 'gashw', 'airco', 'garagepl', 'prefarea'],\n",
      "      dtype='object')\n"
     ]
    }
   ],
   "source": [
    "print('Colunas presentes: {}'.format(dataset.columns))"
   ]
  },
  {
   "cell_type": "code",
   "execution_count": 6,
   "metadata": {
    "ExecuteTime": {
     "end_time": "2020-03-09T16:18:13.650563Z",
     "start_time": "2020-03-09T16:18:13.539108Z"
    }
   },
   "outputs": [
    {
     "name": "stdout",
     "output_type": "stream",
     "text": [
      "<class 'pandas.core.frame.DataFrame'>\n",
      "Int64Index: 546 entries, 1 to 546\n",
      "Data columns (total 12 columns):\n",
      "price       546 non-null float64\n",
      "lotsize     546 non-null int64\n",
      "bedrooms    546 non-null int64\n",
      "bathrms     546 non-null int64\n",
      "stories     546 non-null int64\n",
      "driveway    546 non-null object\n",
      "recroom     546 non-null object\n",
      "fullbase    546 non-null object\n",
      "gashw       546 non-null object\n",
      "airco       546 non-null object\n",
      "garagepl    546 non-null int64\n",
      "prefarea    546 non-null object\n",
      "dtypes: float64(1), int64(5), object(6)\n",
      "memory usage: 55.5+ KB\n"
     ]
    }
   ],
   "source": [
    "dataset.info()"
   ]
  },
  {
   "cell_type": "markdown",
   "metadata": {},
   "source": [
    "#### Verificando dados nulos ou duplicados"
   ]
  },
  {
   "cell_type": "code",
   "execution_count": 7,
   "metadata": {
    "ExecuteTime": {
     "end_time": "2020-03-09T16:18:13.825493Z",
     "start_time": "2020-03-09T16:18:13.655970Z"
    }
   },
   "outputs": [
    {
     "name": "stdout",
     "output_type": "stream",
     "text": [
      "% dados nulos:\n",
      "price       0.0\n",
      "lotsize     0.0\n",
      "bedrooms    0.0\n",
      "bathrms     0.0\n",
      "stories     0.0\n",
      "driveway    0.0\n",
      "recroom     0.0\n",
      "fullbase    0.0\n",
      "gashw       0.0\n",
      "airco       0.0\n",
      "garagepl    0.0\n",
      "prefarea    0.0\n",
      "dtype: float64%\n"
     ]
    }
   ],
   "source": [
    "print('% dados nulos:\\n{}%'.format(dataset.isnull().mean()*100))"
   ]
  },
  {
   "cell_type": "code",
   "execution_count": 8,
   "metadata": {
    "ExecuteTime": {
     "end_time": "2020-03-09T16:18:13.997635Z",
     "start_time": "2020-03-09T16:18:13.828511Z"
    }
   },
   "outputs": [
    {
     "name": "stdout",
     "output_type": "stream",
     "text": [
      "% dados duplicados: 0.18%\n"
     ]
    }
   ],
   "source": [
    "print('% dados duplicados: {}%'.format(round(dataset.duplicated().mean()*100, 2)))"
   ]
  },
  {
   "cell_type": "markdown",
   "metadata": {},
   "source": [
    "#### Retirando dados duplicados"
   ]
  },
  {
   "cell_type": "code",
   "execution_count": 9,
   "metadata": {
    "ExecuteTime": {
     "end_time": "2020-03-09T16:18:14.124684Z",
     "start_time": "2020-03-09T16:18:14.001342Z"
    }
   },
   "outputs": [],
   "source": [
    "dataset.drop_duplicates(inplace=True)"
   ]
  },
  {
   "cell_type": "code",
   "execution_count": 10,
   "metadata": {
    "ExecuteTime": {
     "end_time": "2020-03-09T16:18:14.315751Z",
     "start_time": "2020-03-09T16:18:14.128438Z"
    }
   },
   "outputs": [
    {
     "name": "stdout",
     "output_type": "stream",
     "text": [
      "Shape dataset:(545, 12)\n"
     ]
    }
   ],
   "source": [
    "print('Shape dataset:{}'.format(dataset.shape))"
   ]
  },
  {
   "cell_type": "markdown",
   "metadata": {},
   "source": [
    "#### Analisando a faixa de preços das casas"
   ]
  },
  {
   "cell_type": "code",
   "execution_count": 11,
   "metadata": {
    "ExecuteTime": {
     "end_time": "2020-03-09T16:18:14.584549Z",
     "start_time": "2020-03-09T16:18:14.322360Z"
    }
   },
   "outputs": [
    {
     "name": "stdout",
     "output_type": "stream",
     "text": [
      "0 (24999.999, 53000.0]\n",
      "1 (53000.0, 74166.667]\n",
      "2 (74166.667, 190000.0]\n"
     ]
    }
   ],
   "source": [
    "for i, j in enumerate(np.unique(pd.qcut(dataset['price'], 3))):\n",
    "    print(i, j)"
   ]
  },
  {
   "cell_type": "code",
   "execution_count": 12,
   "metadata": {
    "ExecuteTime": {
     "end_time": "2020-03-09T16:18:14.711808Z",
     "start_time": "2020-03-09T16:18:14.587447Z"
    }
   },
   "outputs": [
    {
     "name": "stdout",
     "output_type": "stream",
     "text": [
      "Preço máximo: $ 190000.0\n",
      "Preço mínimo: $ 25000.0\n",
      "Preço médio:  $ 68096.13 \n"
     ]
    }
   ],
   "source": [
    "print('Preço máximo: $ {}'.format(dataset['price'].max()))\n",
    "print('Preço mínimo: $ {}'.format(dataset['price'].min()))\n",
    "print('Preço médio:  $ {} '.format(round(dataset['price'].mean(), 2)))"
   ]
  },
  {
   "cell_type": "markdown",
   "metadata": {},
   "source": [
    "#### Estatísticas"
   ]
  },
  {
   "cell_type": "code",
   "execution_count": 13,
   "metadata": {
    "ExecuteTime": {
     "end_time": "2020-03-09T16:18:14.998910Z",
     "start_time": "2020-03-09T16:18:14.714391Z"
    }
   },
   "outputs": [
    {
     "data": {
      "text/html": [
       "<div>\n",
       "<style scoped>\n",
       "    .dataframe tbody tr th:only-of-type {\n",
       "        vertical-align: middle;\n",
       "    }\n",
       "\n",
       "    .dataframe tbody tr th {\n",
       "        vertical-align: top;\n",
       "    }\n",
       "\n",
       "    .dataframe thead th {\n",
       "        text-align: right;\n",
       "    }\n",
       "</style>\n",
       "<table border=\"1\" class=\"dataframe\">\n",
       "  <thead>\n",
       "    <tr style=\"text-align: right;\">\n",
       "      <th></th>\n",
       "      <th>price</th>\n",
       "      <th>lotsize</th>\n",
       "      <th>bedrooms</th>\n",
       "      <th>bathrms</th>\n",
       "      <th>stories</th>\n",
       "      <th>garagepl</th>\n",
       "    </tr>\n",
       "  </thead>\n",
       "  <tbody>\n",
       "    <tr>\n",
       "      <th>count</th>\n",
       "      <td>545.000000</td>\n",
       "      <td>545.000000</td>\n",
       "      <td>545.000000</td>\n",
       "      <td>545.000000</td>\n",
       "      <td>545.000000</td>\n",
       "      <td>545.000000</td>\n",
       "    </tr>\n",
       "    <tr>\n",
       "      <th>mean</th>\n",
       "      <td>68096.132110</td>\n",
       "      <td>5150.541284</td>\n",
       "      <td>2.965138</td>\n",
       "      <td>1.286239</td>\n",
       "      <td>1.805505</td>\n",
       "      <td>0.693578</td>\n",
       "    </tr>\n",
       "    <tr>\n",
       "      <th>std</th>\n",
       "      <td>26720.565938</td>\n",
       "      <td>2170.141023</td>\n",
       "      <td>0.738064</td>\n",
       "      <td>0.502470</td>\n",
       "      <td>0.867492</td>\n",
       "      <td>0.861586</td>\n",
       "    </tr>\n",
       "    <tr>\n",
       "      <th>min</th>\n",
       "      <td>25000.000000</td>\n",
       "      <td>1650.000000</td>\n",
       "      <td>1.000000</td>\n",
       "      <td>1.000000</td>\n",
       "      <td>1.000000</td>\n",
       "      <td>0.000000</td>\n",
       "    </tr>\n",
       "    <tr>\n",
       "      <th>25%</th>\n",
       "      <td>49000.000000</td>\n",
       "      <td>3600.000000</td>\n",
       "      <td>2.000000</td>\n",
       "      <td>1.000000</td>\n",
       "      <td>1.000000</td>\n",
       "      <td>0.000000</td>\n",
       "    </tr>\n",
       "    <tr>\n",
       "      <th>50%</th>\n",
       "      <td>62000.000000</td>\n",
       "      <td>4600.000000</td>\n",
       "      <td>3.000000</td>\n",
       "      <td>1.000000</td>\n",
       "      <td>2.000000</td>\n",
       "      <td>0.000000</td>\n",
       "    </tr>\n",
       "    <tr>\n",
       "      <th>75%</th>\n",
       "      <td>82000.000000</td>\n",
       "      <td>6360.000000</td>\n",
       "      <td>3.000000</td>\n",
       "      <td>2.000000</td>\n",
       "      <td>2.000000</td>\n",
       "      <td>1.000000</td>\n",
       "    </tr>\n",
       "    <tr>\n",
       "      <th>max</th>\n",
       "      <td>190000.000000</td>\n",
       "      <td>16200.000000</td>\n",
       "      <td>6.000000</td>\n",
       "      <td>4.000000</td>\n",
       "      <td>4.000000</td>\n",
       "      <td>3.000000</td>\n",
       "    </tr>\n",
       "  </tbody>\n",
       "</table>\n",
       "</div>"
      ],
      "text/plain": [
       "               price       lotsize    bedrooms     bathrms     stories  \\\n",
       "count     545.000000    545.000000  545.000000  545.000000  545.000000   \n",
       "mean    68096.132110   5150.541284    2.965138    1.286239    1.805505   \n",
       "std     26720.565938   2170.141023    0.738064    0.502470    0.867492   \n",
       "min     25000.000000   1650.000000    1.000000    1.000000    1.000000   \n",
       "25%     49000.000000   3600.000000    2.000000    1.000000    1.000000   \n",
       "50%     62000.000000   4600.000000    3.000000    1.000000    2.000000   \n",
       "75%     82000.000000   6360.000000    3.000000    2.000000    2.000000   \n",
       "max    190000.000000  16200.000000    6.000000    4.000000    4.000000   \n",
       "\n",
       "         garagepl  \n",
       "count  545.000000  \n",
       "mean     0.693578  \n",
       "std      0.861586  \n",
       "min      0.000000  \n",
       "25%      0.000000  \n",
       "50%      0.000000  \n",
       "75%      1.000000  \n",
       "max      3.000000  "
      ]
     },
     "execution_count": 13,
     "metadata": {},
     "output_type": "execute_result"
    }
   ],
   "source": [
    "dataset.describe()"
   ]
  },
  {
   "cell_type": "markdown",
   "metadata": {},
   "source": [
    "#### Visualização dos dados"
   ]
  },
  {
   "cell_type": "code",
   "execution_count": 14,
   "metadata": {
    "ExecuteTime": {
     "end_time": "2020-03-09T16:18:15.496412Z",
     "start_time": "2020-03-09T16:18:15.001973Z"
    }
   },
   "outputs": [
    {
     "data": {
      "text/plain": [
       "Text(0.5, 0, 'Lotsize')"
      ]
     },
     "execution_count": 14,
     "metadata": {},
     "output_type": "execute_result"
    },
    {
     "data": {
      "image/png": "[encoded data removed]",
      "text/plain": [
       "<Figure size 432x288 with 1 Axes>"
      ]
     },
     "metadata": {
      "needs_background": "light"
     },
     "output_type": "display_data"
    }
   ],
   "source": [
    "fig, ax = plt.subplots()\n",
    "ax.scatter(x = dataset['lotsize'], y = dataset['price'], c='y')\n",
    "plt.ylabel('Price', fontsize=13)\n",
    "plt.xlabel('Lotsize', fontsize=13)"
   ]
  },
  {
   "cell_type": "markdown",
   "metadata": {},
   "source": [
    "#### Cria um dicionário para rotular as variáveis binárias e normaliza a coluna price"
   ]
  },
  {
   "cell_type": "code",
   "execution_count": 15,
   "metadata": {
    "ExecuteTime": {
     "end_time": "2020-03-09T16:18:15.532635Z",
     "start_time": "2020-03-09T16:18:15.499439Z"
    }
   },
   "outputs": [],
   "source": [
    "d = dict(zip(['no', 'yes'], range(0,2)))\n",
    "\n",
    "for i in zip(dataset.dtypes.index, dataset.dtypes):\n",
    "    if str(i[1]) == 'object':\n",
    "        dataset[i[0]] = dataset[i[0]].map(d)\n",
    "        \n",
    "dataset['price'] = pd.qcut(dataset['price'], 3, labels=['0', '1', '2']).cat.codes"
   ]
  },
  {
   "cell_type": "markdown",
   "metadata": {},
   "source": [
    "#### Correlação"
   ]
  },
  {
   "cell_type": "code",
   "execution_count": 16,
   "metadata": {
    "ExecuteTime": {
     "end_time": "2020-03-09T16:18:17.345692Z",
     "start_time": "2020-03-09T16:18:15.536164Z"
    }
   },
   "outputs": [
    {
     "data": {
      "text/plain": [
       "<matplotlib.axes._subplots.AxesSubplot at 0x7ff049047e48>"
      ]
     },
     "execution_count": 16,
     "metadata": {},
     "output_type": "execute_result"
    },
    {
     "data": {
      "image/png": "[encoded data removed]",
      "text/plain": [
       "<Figure size 864x720 with 2 Axes>"
      ]
     },
     "metadata": {
      "needs_background": "light"
     },
     "output_type": "display_data"
    }
   ],
   "source": [
    "colormap = plt.cm.RdBu\n",
    "plt.figure(figsize=(12, 10))\n",
    "plt.title('Correlação de Pearson', y=1.05, size=12)\n",
    "sns.heatmap(dataset.astype(float).corr(),linewidths=0.1, vmax=0.9, square=True, cmap=colormap, \n",
    "            linecolor='white', annot=True)"
   ]
  },
  {
   "cell_type": "markdown",
   "metadata": {},
   "source": [
    "#### Separação dos dados"
   ]
  },
  {
   "cell_type": "code",
   "execution_count": 17,
   "metadata": {
    "ExecuteTime": {
     "end_time": "2020-03-09T16:18:17.357915Z",
     "start_time": "2020-03-09T16:18:17.348847Z"
    }
   },
   "outputs": [],
   "source": [
    "y = dataset['price']\n",
    "X = dataset.drop(['price'], axis=1)"
   ]
  },
  {
   "cell_type": "markdown",
   "metadata": {},
   "source": [
    "### Bagging"
   ]
  },
  {
   "cell_type": "code",
   "execution_count": 18,
   "metadata": {
    "ExecuteTime": {
     "end_time": "2020-03-09T16:18:17.565045Z",
     "start_time": "2020-03-09T16:18:17.361844Z"
    }
   },
   "outputs": [],
   "source": [
    "from sklearn.svm import SVC\n",
    "from sklearn.linear_model import RidgeClassifier\n",
    "from sklearn.neighbors import KNeighborsClassifier\n",
    "from sklearn.ensemble import BaggingClassifier, ExtraTreesClassifier, RandomForestClassifier"
   ]
  },
  {
   "cell_type": "code",
   "execution_count": 19,
   "metadata": {
    "ExecuteTime": {
     "end_time": "2020-03-09T16:18:17.731684Z",
     "start_time": "2020-03-09T16:18:17.568225Z"
    }
   },
   "outputs": [],
   "source": [
    "seed = 1075\n",
    "np.random.seed(seed)"
   ]
  },
  {
   "cell_type": "markdown",
   "metadata": {},
   "source": [
    "#### Criando os classificadores"
   ]
  },
  {
   "cell_type": "code",
   "execution_count": 20,
   "metadata": {
    "ExecuteTime": {
     "end_time": "2020-03-09T16:18:17.906763Z",
     "start_time": "2020-03-09T16:18:17.734834Z"
    }
   },
   "outputs": [],
   "source": [
    "rf = RandomForestClassifier()\n",
    "et = ExtraTreesClassifier()\n",
    "knn = KNeighborsClassifier()\n",
    "svc = SVC()\n",
    "rg = RidgeClassifier()"
   ]
  },
  {
   "cell_type": "markdown",
   "metadata": {},
   "source": [
    "#### Comparação entre o score de cada modelo x BaggingClassifier"
   ]
  },
  {
   "cell_type": "code",
   "execution_count": 21,
   "metadata": {
    "ExecuteTime": {
     "end_time": "2020-03-09T16:18:36.011864Z",
     "start_time": "2020-03-09T16:18:17.909537Z"
    }
   },
   "outputs": [
    {
     "name": "stdout",
     "output_type": "stream",
     "text": [
      "Mean of: 0.65, std: (+/-) 0.10 [RandomForestClassifier]\n",
      "Mean of: 0.65, std: (+/-) 0.08 [Bagging RandomForestClassifier]\n",
      "\n",
      "Mean of: 0.65, std: (+/-) 0.08 [ExtraTreesClassifier]\n",
      "Mean of: 0.65, std: (+/-) 0.10 [Bagging ExtraTreesClassifier]\n",
      "\n",
      "Mean of: 0.51, std: (+/-) 0.09 [KNeighborsClassifier]\n",
      "Mean of: 0.52, std: (+/-) 0.10 [Bagging KNeighborsClassifier]\n",
      "\n",
      "Mean of: 0.57, std: (+/-) 0.08 [SVC]\n",
      "Mean of: 0.57, std: (+/-) 0.08 [Bagging SVC]\n",
      "\n",
      "Mean of: 0.64, std: (+/-) 0.06 [RidgeClassifier]\n",
      "Mean of: 0.61, std: (+/-) 0.06 [Bagging RidgeClassifier]\n",
      "\n"
     ]
    }
   ],
   "source": [
    "clf_array = [rf, et, knn, svc, rg]\n",
    "\n",
    "for clf in clf_array:\n",
    "    \n",
    "    score_model = cross_val_score(clf, X, y, cv=10, n_jobs=-1)\n",
    "    \n",
    "    bagging_clf = BaggingClassifier(clf, max_samples=0.4, max_features=10, random_state=seed)\n",
    "    bagging_scores = cross_val_score(bagging_clf, X, y, cv=10, n_jobs=-1)\n",
    "    \n",
    "    print('Mean of: {1:.2f}, std: (+/-) {2:.2f} [{0}]'.format(clf.__class__.__name__, \n",
    "                                                              score_model.mean(), score_model.std()))\n",
    "    \n",
    "    print('Mean of: {1:.2f}, std: (+/-) {2:.2f} [Bagging {0}]\\n'.format(clf.__class__.__name__, \n",
    "                                                                        bagging_scores.mean(), \n",
    "                                                                        bagging_scores.std()))"
   ]
  },
  {
   "cell_type": "markdown",
   "metadata": {},
   "source": [
    "#### Escolha por votação "
   ]
  },
  {
   "cell_type": "markdown",
   "metadata": {},
   "source": [
    "##### Agrega as previsões de cada classificador e prevê a classe que obtém mais votos"
   ]
  },
  {
   "cell_type": "code",
   "execution_count": 22,
   "metadata": {
    "ExecuteTime": {
     "end_time": "2020-03-09T16:18:36.027262Z",
     "start_time": "2020-03-09T16:18:36.022977Z"
    }
   },
   "outputs": [],
   "source": [
    "from sklearn.ensemble import VotingClassifier"
   ]
  },
  {
   "cell_type": "code",
   "execution_count": 23,
   "metadata": {
    "ExecuteTime": {
     "end_time": "2020-03-09T16:18:47.640079Z",
     "start_time": "2020-03-09T16:18:36.035705Z"
    }
   },
   "outputs": [
    {
     "name": "stdout",
     "output_type": "stream",
     "text": [
      "Mean: 0.65, std: (+/-) 0.09 [Random Forest]\n",
      "Mean: 0.64, std: (+/-) 0.09 [Extra Trees]\n",
      "Mean: 0.51, std: (+/-) 0.09 [KNeighbors]\n",
      "Mean: 0.57, std: (+/-) 0.08 [SVC]\n",
      "Mean: 0.64, std: (+/-) 0.06 [Ridge Classifier]\n",
      "Mean: 0.62, std: (+/-) 0.09 [Ensemble]\n"
     ]
    }
   ],
   "source": [
    "eclf = VotingClassifier(estimators=[('Random Forests', rf), ('Extra Trees', et),\n",
    "                                    ('KNeighbors', knn), ('SVC', svc), ('Ridge Classifier', rg)], voting='hard')\n",
    "\n",
    "\n",
    "for clf, label in zip([rf, et, knn, svc, rg, eclf], ['Random Forest', 'Extra Trees',\n",
    "                                                     'KNeighbors', 'SVC', 'Ridge Classifier', 'Ensemble']):\n",
    "\n",
    "    scores = cross_val_score(clf, X, y, cv=10, scoring='accuracy')\n",
    "    print('Mean: {0:.2f}, std: (+/-) {1:.2f} [{2}]'.format(scores.mean(), scores.std(), label))"
   ]
  },
  {
   "cell_type": "markdown",
   "metadata": {},
   "source": [
    "### Boosting"
   ]
  },
  {
   "cell_type": "code",
   "execution_count": 24,
   "metadata": {
    "ExecuteTime": {
     "end_time": "2020-03-09T16:18:48.092677Z",
     "start_time": "2020-03-09T16:18:47.642566Z"
    }
   },
   "outputs": [
    {
     "name": "stderr",
     "output_type": "stream",
     "text": [
      "/home/liliane-hop/anaconda3/lib/python3.7/site-packages/dask/config.py:168: YAMLLoadWarning: calling yaml.load() without Loader=... is deprecated, as the default Loader is unsafe. Please read https://msg.pyyaml.org/load for full details.\n",
      "  data = yaml.load(f.read()) or {}\n"
     ]
    }
   ],
   "source": [
    "from xgboost import XGBClassifier, plot_importance\n",
    "from mlxtend.classifier import EnsembleVoteClassifier\n",
    "from sklearn.ensemble import AdaBoostClassifier, GradientBoostingClassifier"
   ]
  },
  {
   "cell_type": "markdown",
   "metadata": {},
   "source": [
    "#### Cria os modelos"
   ]
  },
  {
   "cell_type": "code",
   "execution_count": 25,
   "metadata": {
    "ExecuteTime": {
     "end_time": "2020-03-09T16:18:48.098812Z",
     "start_time": "2020-03-09T16:18:48.094840Z"
    }
   },
   "outputs": [],
   "source": [
    "ada_boost = AdaBoostClassifier()\n",
    "grad_boost = GradientBoostingClassifier()\n",
    "xgb_boost = XGBClassifier()"
   ]
  },
  {
   "cell_type": "markdown",
   "metadata": {},
   "source": [
    "#### Cria um meta-classificador de votação majoritária"
   ]
  },
  {
   "cell_type": "code",
   "execution_count": 26,
   "metadata": {
    "ExecuteTime": {
     "end_time": "2020-03-09T16:18:48.328535Z",
     "start_time": "2020-03-09T16:18:48.101415Z"
    }
   },
   "outputs": [],
   "source": [
    "eclf = EnsembleVoteClassifier(clfs=[ada_boost, grad_boost, xgb_boost], voting='hard')\n",
    "\n",
    "labels = ['Ada Boost', 'Grad Boost', 'XG Boost', 'Ensemble']"
   ]
  },
  {
   "cell_type": "code",
   "execution_count": 27,
   "metadata": {
    "ExecuteTime": {
     "end_time": "2020-03-09T16:19:05.618115Z",
     "start_time": "2020-03-09T16:18:48.333119Z"
    }
   },
   "outputs": [
    {
     "name": "stdout",
     "output_type": "stream",
     "text": [
      "Mean: 0.631, std: (+/-) 0.105 [Ada Boost]\n",
      "Mean: 0.644, std: (+/-) 0.116 [Grad Boost]\n",
      "Mean: 0.624, std: (+/-) 0.097 [XG Boost]\n",
      "Mean: 0.633, std: (+/-) 0.114 [Ensemble]\n"
     ]
    }
   ],
   "source": [
    "for clf, label in zip([ada_boost, grad_boost, xgb_boost, eclf], labels):\n",
    "    scores = cross_val_score(clf, X, y, cv=10, scoring='accuracy')\n",
    "    print('Mean: {0:.3f}, std: (+/-) {1:.3f} [{2}]'.format(scores.mean(), scores.std(), label))"
   ]
  },
  {
   "cell_type": "markdown",
   "metadata": {},
   "source": [
    "### Stacking"
   ]
  },
  {
   "cell_type": "code",
   "execution_count": 28,
   "metadata": {
    "ExecuteTime": {
     "end_time": "2020-03-09T16:19:05.625574Z",
     "start_time": "2020-03-09T16:19:05.621017Z"
    }
   },
   "outputs": [],
   "source": [
    "from sklearn.linear_model import LogisticRegression\n",
    "from sklearn.model_selection import train_test_split\n",
    "from sklearn.ensemble import StackingClassifier, RandomForestClassifier"
   ]
  },
  {
   "cell_type": "code",
   "execution_count": 29,
   "metadata": {
    "ExecuteTime": {
     "end_time": "2020-03-09T16:19:05.896012Z",
     "start_time": "2020-03-09T16:19:05.628506Z"
    }
   },
   "outputs": [],
   "source": [
    "estimators = [\n",
    "    ('rf', RandomForestClassifier()),\n",
    "    ('svc', SVC()),\n",
    "    ('et', ExtraTreesClassifier()),\n",
    "    ('knn', KNeighborsClassifier()),\n",
    "    ('rg', RidgeClassifier())\n",
    "]\n",
    "\n",
    "ensemble = StackingClassifier(estimators=estimators, final_estimator=LogisticRegression())\n",
    "\n",
    "X_train, X_test, y_train, y_test = train_test_split(X, y, stratify=y, random_state=42)"
   ]
  },
  {
   "cell_type": "code",
   "execution_count": 30,
   "metadata": {
    "ExecuteTime": {
     "end_time": "2020-03-09T16:19:09.022053Z",
     "start_time": "2020-03-09T16:19:05.901261Z"
    }
   },
   "outputs": [
    {
     "data": {
      "text/plain": [
       "0.64"
      ]
     },
     "execution_count": 30,
     "metadata": {},
     "output_type": "execute_result"
    }
   ],
   "source": [
    "round(ensemble.fit(X_train, y_train).score(X_test, y_test), 2)"
   ]
  }
 ],
 "metadata": {
  "colab": {
   "collapsed_sections": [],
   "name": "Copy of Copy of Aula #19.ipynb",
   "provenance": []
  },
  "hide_input": false,
  "kernelspec": {
   "display_name": "Python 3",
   "language": "python",
   "name": "python3"
  },
  "language_info": {
   "codemirror_mode": {
    "name": "ipython",
    "version": 3
   },
   "file_extension": ".py",
   "mimetype": "text/x-python",
   "name": "python",
   "nbconvert_exporter": "python",
   "pygments_lexer": "ipython3",
   "version": "3.7.3"
  },
  "toc": {
   "base_numbering": 1,
   "nav_menu": {},
   "number_sections": true,
   "sideBar": true,
   "skip_h1_title": false,
   "title_cell": "Table of Contents",
   "title_sidebar": "Contents",
   "toc_cell": false,
   "toc_position": {},
   "toc_section_display": true,
   "toc_window_display": false
  },
  "varInspector": {
   "cols": {
    "lenName": 16,
    "lenType": 16,
    "lenVar": 40
   },
   "kernels_config": {
    "python": {
     "delete_cmd_postfix": "",
     "delete_cmd_prefix": "del ",
     "library": "var_list.py",
     "varRefreshCmd": "print(var_dic_list())"
    },
    "r": {
     "delete_cmd_postfix": ") ",
     "delete_cmd_prefix": "rm(",
     "library": "var_list.r",
     "varRefreshCmd": "cat(var_dic_list()) "
    }
   },
   "types_to_exclude": [
    "module",
    "function",
    "builtin_function_or_method",
    "instance",
    "_Feature"
   ],
   "window_display": false
  }
 },
 "nbformat": 4,
 "nbformat_minor": 1
}
