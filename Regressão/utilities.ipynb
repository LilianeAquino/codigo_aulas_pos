{
 "cells": [
  {
   "cell_type": "code",
   "execution_count": 1,
   "metadata": {},
   "outputs": [],
   "source": [
    "import warnings\n",
    "import numpy as np\n",
    "import pandas as pd\n",
    "\n",
    "warnings.filterwarnings('ignore')"
   ]
  },
  {
   "cell_type": "code",
   "execution_count": 2,
   "metadata": {},
   "outputs": [],
   "source": [
    "def statistics(target):\n",
    "    minimum_price = np.amin(target)\n",
    "    maximum_price = np.amax(target)\n",
    "    mean_price = np.mean(target)\n",
    "    median_price = np.median(target)\n",
    "    std_price = np.std(target)\n",
    "\n",
    "    print(\"Statistics for House Prices dataset:\\n\")\n",
    "    print(\"Minimum price: ${}\".format(minimum_price)) \n",
    "    print(\"Maximum price: ${}\".format(maximum_price))\n",
    "    print(\"Mean price: ${}\".format(mean_price))\n",
    "    print(\"Median price ${}\".format(median_price))\n",
    "    print(\"Standard deviation of prices: ${}\".format(std_price))"
   ]
  },
  {
   "cell_type": "code",
   "execution_count": null,
   "metadata": {},
   "outputs": [],
   "source": []
  }
 ],
 "metadata": {
  "kernelspec": {
   "display_name": "Python 3",
   "language": "python",
   "name": "python3"
  },
  "language_info": {
   "codemirror_mode": {
    "name": "ipython",
    "version": 3
   },
   "file_extension": ".py",
   "mimetype": "text/x-python",
   "name": "python",
   "nbconvert_exporter": "python",
   "pygments_lexer": "ipython3",
   "version": "3.7.3"
  }
 },
 "nbformat": 4,
 "nbformat_minor": 2
}
