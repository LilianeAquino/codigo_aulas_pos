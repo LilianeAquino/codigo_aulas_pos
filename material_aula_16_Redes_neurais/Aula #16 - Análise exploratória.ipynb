{
 "cells": [
  {
   "cell_type": "markdown",
   "metadata": {
    "colab_type": "text",
    "id": "qpV9zGSoY8sm"
   },
   "source": [
    "# Aula 16\n",
    "\n",
    "- Kaggle: https://www.kaggle.com/joaotostes/classificacao-brasileirao-10-anos\n"
   ]
  },
  {
   "cell_type": "markdown",
   "metadata": {
    "colab_type": "text",
    "id": "RD6Z9sToLmwU"
   },
   "source": [
    "#### Importa as bibliotecas\n"
   ]
  },
  {
   "cell_type": "code",
   "execution_count": 1,
   "metadata": {
    "colab": {},
    "colab_type": "code",
    "id": "sMN1LbH0gg2x"
   },
   "outputs": [],
   "source": [
    "import logging\n",
    "import warnings\n",
    "import numpy as np\n",
    "import pandas as pd\n",
    "import seaborn as sns\n",
    "import matplotlib.pyplot as plt\n",
    "\n",
    "%matplotlib inline\n",
    "warnings.filterwarnings('ignore')\n",
    "logging.basicConfig(format='%(asctime)s : %(levelname)s : %(message)s', level=logging.INFO)"
   ]
  },
  {
   "cell_type": "markdown",
   "metadata": {
    "colab_type": "text",
    "id": "cTx6l0cGLwQ7"
   },
   "source": [
    "#### Carrega a base dados"
   ]
  },
  {
   "cell_type": "code",
   "execution_count": 2,
   "metadata": {
    "colab": {},
    "colab_type": "code",
    "id": "4-OOQ-MBB64M"
   },
   "outputs": [],
   "source": [
    "df = pd.read_csv('Data-Camp-Brasileiro_1.csv', delimiter=';')"
   ]
  },
  {
   "cell_type": "markdown",
   "metadata": {},
   "source": [
    "#### Descrição do conjunto de dados"
   ]
  },
  {
   "cell_type": "markdown",
   "metadata": {},
   "source": [
    "Esse conjunto possui dados das tabelas dos campeonatos de futebol brasileiros de 2009 a 2018."
   ]
  },
  {
   "cell_type": "markdown",
   "metadata": {},
   "source": [
    "**ANO**: ano do campeonato\n",
    "\n",
    "**Posicao**: posição da equipe\n",
    "\n",
    "**Pontos**: pontos conquistados\n",
    "\n",
    "**Vitória**: vitórias\n",
    "\n",
    "**Empates**: empates\n",
    "\n",
    "**Derrotas**: derrotas\n",
    "\n",
    "**Gols pro**: gols realizados\n",
    "\n",
    "**Gols Contra**: gols sofridos\n",
    "\n",
    "**Saldo Gols**: diferença entre realizados e sofridos\n",
    "\n",
    "**Aproveitamento**: porcentagem de pontos em relação ao total\n",
    "\n",
    "**Estados**: estados das equipes"
   ]
  },
  {
   "cell_type": "markdown",
   "metadata": {
    "colab_type": "text",
    "id": "vtXA4WegL3Jq"
   },
   "source": [
    "#### Explorando os dados"
   ]
  },
  {
   "cell_type": "code",
   "execution_count": 3,
   "metadata": {
    "colab": {
     "base_uri": "https://localhost:8080/",
     "height": 204
    },
    "colab_type": "code",
    "executionInfo": {
     "elapsed": 727,
     "status": "ok",
     "timestamp": 1582245617152,
     "user": {
      "displayName": "LILIANE LOURENÇA",
      "photoUrl": "https://lh3.googleusercontent.com/a-/AAuE7mDinwN-cS0D8YXApFFirZhsARtKZ-1bmYY_0am50Q=s64",
      "userId": "01589378809252939986"
     },
     "user_tz": 180
    },
    "id": "DsRDmfV0MBKA",
    "outputId": "a046f613-03b7-4bd0-97c3-89f8e56aabc8"
   },
   "outputs": [
    {
     "data": {
      "text/html": [
       "<div>\n",
       "<style scoped>\n",
       "    .dataframe tbody tr th:only-of-type {\n",
       "        vertical-align: middle;\n",
       "    }\n",
       "\n",
       "    .dataframe tbody tr th {\n",
       "        vertical-align: top;\n",
       "    }\n",
       "\n",
       "    .dataframe thead th {\n",
       "        text-align: right;\n",
       "    }\n",
       "</style>\n",
       "<table border=\"1\" class=\"dataframe\">\n",
       "  <thead>\n",
       "    <tr style=\"text-align: right;\">\n",
       "      <th></th>\n",
       "      <th>ANO</th>\n",
       "      <th>Posicao</th>\n",
       "      <th>Time</th>\n",
       "      <th>Pontos</th>\n",
       "      <th>Vitoria</th>\n",
       "      <th>Empates</th>\n",
       "      <th>Derrotas</th>\n",
       "      <th>Gols pro</th>\n",
       "      <th>Gols Contra</th>\n",
       "      <th>Saldo Gols</th>\n",
       "      <th>Aproveitamento</th>\n",
       "      <th>Estados</th>\n",
       "    </tr>\n",
       "  </thead>\n",
       "  <tbody>\n",
       "    <tr>\n",
       "      <th>0</th>\n",
       "      <td>2009</td>\n",
       "      <td>1</td>\n",
       "      <td>Flamengo</td>\n",
       "      <td>67</td>\n",
       "      <td>19</td>\n",
       "      <td>10</td>\n",
       "      <td>9</td>\n",
       "      <td>58</td>\n",
       "      <td>44</td>\n",
       "      <td>14</td>\n",
       "      <td>58.8</td>\n",
       "      <td>RJ</td>\n",
       "    </tr>\n",
       "    <tr>\n",
       "      <th>1</th>\n",
       "      <td>2009</td>\n",
       "      <td>2</td>\n",
       "      <td>Internacional</td>\n",
       "      <td>65</td>\n",
       "      <td>19</td>\n",
       "      <td>8</td>\n",
       "      <td>11</td>\n",
       "      <td>65</td>\n",
       "      <td>44</td>\n",
       "      <td>21</td>\n",
       "      <td>57.0</td>\n",
       "      <td>RS</td>\n",
       "    </tr>\n",
       "    <tr>\n",
       "      <th>2</th>\n",
       "      <td>2009</td>\n",
       "      <td>3</td>\n",
       "      <td>Sao Paulo</td>\n",
       "      <td>65</td>\n",
       "      <td>18</td>\n",
       "      <td>11</td>\n",
       "      <td>9</td>\n",
       "      <td>57</td>\n",
       "      <td>42</td>\n",
       "      <td>15</td>\n",
       "      <td>57.0</td>\n",
       "      <td>SP</td>\n",
       "    </tr>\n",
       "    <tr>\n",
       "      <th>3</th>\n",
       "      <td>2009</td>\n",
       "      <td>4</td>\n",
       "      <td>Cruzeiro</td>\n",
       "      <td>62</td>\n",
       "      <td>18</td>\n",
       "      <td>8</td>\n",
       "      <td>12</td>\n",
       "      <td>58</td>\n",
       "      <td>53</td>\n",
       "      <td>5</td>\n",
       "      <td>54.4</td>\n",
       "      <td>MG</td>\n",
       "    </tr>\n",
       "    <tr>\n",
       "      <th>4</th>\n",
       "      <td>2009</td>\n",
       "      <td>5</td>\n",
       "      <td>Palmeiras</td>\n",
       "      <td>62</td>\n",
       "      <td>17</td>\n",
       "      <td>11</td>\n",
       "      <td>10</td>\n",
       "      <td>58</td>\n",
       "      <td>45</td>\n",
       "      <td>13</td>\n",
       "      <td>54.4</td>\n",
       "      <td>SP</td>\n",
       "    </tr>\n",
       "  </tbody>\n",
       "</table>\n",
       "</div>"
      ],
      "text/plain": [
       "    ANO  Posicao           Time  Pontos  Vitoria  Empates  Derrotas  Gols pro  \\\n",
       "0  2009        1       Flamengo      67       19       10         9        58   \n",
       "1  2009        2  Internacional      65       19        8        11        65   \n",
       "2  2009        3      Sao Paulo      65       18       11         9        57   \n",
       "3  2009        4       Cruzeiro      62       18        8        12        58   \n",
       "4  2009        5      Palmeiras      62       17       11        10        58   \n",
       "\n",
       "   Gols Contra Saldo Gols  Aproveitamento Estados  \n",
       "0           44         14            58.8      RJ  \n",
       "1           44         21            57.0      RS  \n",
       "2           42         15            57.0      SP  \n",
       "3           53          5            54.4      MG  \n",
       "4           45         13            54.4      SP  "
      ]
     },
     "execution_count": 3,
     "metadata": {},
     "output_type": "execute_result"
    }
   ],
   "source": [
    "df.head(5)"
   ]
  },
  {
   "cell_type": "code",
   "execution_count": 4,
   "metadata": {
    "colab": {
     "base_uri": "https://localhost:8080/",
     "height": 34
    },
    "colab_type": "code",
    "executionInfo": {
     "elapsed": 646,
     "status": "ok",
     "timestamp": 1582243268050,
     "user": {
      "displayName": "LILIANE LOURENÇA",
      "photoUrl": "https://lh3.googleusercontent.com/a-/AAuE7mDinwN-cS0D8YXApFFirZhsARtKZ-1bmYY_0am50Q=s64",
      "userId": "01589378809252939986"
     },
     "user_tz": 180
    },
    "id": "fDa9o6Y1Ck0M",
    "outputId": "2bd562a7-8078-43f9-b08b-b7b0b6939b75"
   },
   "outputs": [
    {
     "name": "stdout",
     "output_type": "stream",
     "text": [
      "Linhas: 200 e Colunas: 12\n"
     ]
    }
   ],
   "source": [
    "print('Linhas: {} e Colunas: {}'.format(df.shape[0], df.shape[1]))"
   ]
  },
  {
   "cell_type": "code",
   "execution_count": 5,
   "metadata": {},
   "outputs": [
    {
     "name": "stdout",
     "output_type": "stream",
     "text": [
      "Colunas presentes: Index(['ANO', 'Posicao', 'Time', 'Pontos', 'Vitoria', 'Empates', 'Derrotas',\n",
      "       'Gols pro', 'Gols Contra', 'Saldo Gols', 'Aproveitamento', 'Estados'],\n",
      "      dtype='object')\n"
     ]
    }
   ],
   "source": [
    "print('Colunas presentes: {}'.format(df.columns))"
   ]
  },
  {
   "cell_type": "code",
   "execution_count": 6,
   "metadata": {
    "colab": {
     "base_uri": "https://localhost:8080/",
     "height": 306
    },
    "colab_type": "code",
    "executionInfo": {
     "elapsed": 381,
     "status": "ok",
     "timestamp": 1582243210289,
     "user": {
      "displayName": "LILIANE LOURENÇA",
      "photoUrl": "https://lh3.googleusercontent.com/a-/AAuE7mDinwN-cS0D8YXApFFirZhsARtKZ-1bmYY_0am50Q=s64",
      "userId": "01589378809252939986"
     },
     "user_tz": 180
    },
    "id": "Cj8JByEkCkGl",
    "outputId": "941f5b30-2160-4698-9c44-245442f61121"
   },
   "outputs": [
    {
     "name": "stdout",
     "output_type": "stream",
     "text": [
      "<class 'pandas.core.frame.DataFrame'>\n",
      "RangeIndex: 200 entries, 0 to 199\n",
      "Data columns (total 12 columns):\n",
      "ANO               200 non-null int64\n",
      "Posicao           200 non-null int64\n",
      "Time              200 non-null object\n",
      "Pontos            200 non-null int64\n",
      "Vitoria           200 non-null int64\n",
      "Empates           200 non-null int64\n",
      "Derrotas          200 non-null int64\n",
      "Gols pro          200 non-null int64\n",
      "Gols Contra       200 non-null int64\n",
      "Saldo Gols        200 non-null object\n",
      "Aproveitamento    200 non-null float64\n",
      "Estados           200 non-null object\n",
      "dtypes: float64(1), int64(8), object(3)\n",
      "memory usage: 18.8+ KB\n"
     ]
    }
   ],
   "source": [
    "df.info()"
   ]
  },
  {
   "cell_type": "markdown",
   "metadata": {},
   "source": [
    "#### Times do campeonato brasileiro"
   ]
  },
  {
   "cell_type": "code",
   "execution_count": 7,
   "metadata": {},
   "outputs": [
    {
     "data": {
      "text/plain": [
       "array(['Flamengo', 'Internacional', 'Sao Paulo', 'Cruzeiro', 'Palmeiras',\n",
       "       'Avai', 'Atletico MG', 'Gremio', 'Goias', 'Corinthians', 'Barueri',\n",
       "       'Santos', 'Vitoria', 'Athletico PR', 'Botafogo', 'Fluminense',\n",
       "       'Coritiba', 'Santo Andre', 'Nautico', 'Sport', 'Vasco', 'Ceara',\n",
       "       'Atletico GO', 'Guarani', 'Gremio Barueri', 'Figueirense', 'Bahia',\n",
       "       'America MG', 'Ponte Preta', 'Portuguesa', 'Criciuma',\n",
       "       'Chapecoense', 'Joinville', 'Santa Cruz PE', 'Atletico  MG',\n",
       "       'Parana'], dtype=object)"
      ]
     },
     "execution_count": 7,
     "metadata": {},
     "output_type": "execute_result"
    }
   ],
   "source": [
    "df['Time'].unique()"
   ]
  },
  {
   "cell_type": "markdown",
   "metadata": {},
   "source": [
    "#### Renomeando as colunas"
   ]
  },
  {
   "cell_type": "code",
   "execution_count": 8,
   "metadata": {},
   "outputs": [
    {
     "data": {
      "text/html": [
       "<div>\n",
       "<style scoped>\n",
       "    .dataframe tbody tr th:only-of-type {\n",
       "        vertical-align: middle;\n",
       "    }\n",
       "\n",
       "    .dataframe tbody tr th {\n",
       "        vertical-align: top;\n",
       "    }\n",
       "\n",
       "    .dataframe thead th {\n",
       "        text-align: right;\n",
       "    }\n",
       "</style>\n",
       "<table border=\"1\" class=\"dataframe\">\n",
       "  <thead>\n",
       "    <tr style=\"text-align: right;\">\n",
       "      <th></th>\n",
       "      <th>ano</th>\n",
       "      <th>posicao</th>\n",
       "      <th>time</th>\n",
       "      <th>pontos</th>\n",
       "      <th>vitorias</th>\n",
       "      <th>empates</th>\n",
       "      <th>derrotas</th>\n",
       "      <th>golsPro</th>\n",
       "      <th>golsContra</th>\n",
       "      <th>saldoGols</th>\n",
       "      <th>aproveitamento</th>\n",
       "      <th>estados</th>\n",
       "    </tr>\n",
       "  </thead>\n",
       "  <tbody>\n",
       "    <tr>\n",
       "      <th>0</th>\n",
       "      <td>2009</td>\n",
       "      <td>1</td>\n",
       "      <td>Flamengo</td>\n",
       "      <td>67</td>\n",
       "      <td>19</td>\n",
       "      <td>10</td>\n",
       "      <td>9</td>\n",
       "      <td>58</td>\n",
       "      <td>44</td>\n",
       "      <td>14</td>\n",
       "      <td>58.8</td>\n",
       "      <td>RJ</td>\n",
       "    </tr>\n",
       "    <tr>\n",
       "      <th>1</th>\n",
       "      <td>2009</td>\n",
       "      <td>2</td>\n",
       "      <td>Internacional</td>\n",
       "      <td>65</td>\n",
       "      <td>19</td>\n",
       "      <td>8</td>\n",
       "      <td>11</td>\n",
       "      <td>65</td>\n",
       "      <td>44</td>\n",
       "      <td>21</td>\n",
       "      <td>57.0</td>\n",
       "      <td>RS</td>\n",
       "    </tr>\n",
       "    <tr>\n",
       "      <th>2</th>\n",
       "      <td>2009</td>\n",
       "      <td>3</td>\n",
       "      <td>Sao Paulo</td>\n",
       "      <td>65</td>\n",
       "      <td>18</td>\n",
       "      <td>11</td>\n",
       "      <td>9</td>\n",
       "      <td>57</td>\n",
       "      <td>42</td>\n",
       "      <td>15</td>\n",
       "      <td>57.0</td>\n",
       "      <td>SP</td>\n",
       "    </tr>\n",
       "    <tr>\n",
       "      <th>3</th>\n",
       "      <td>2009</td>\n",
       "      <td>4</td>\n",
       "      <td>Cruzeiro</td>\n",
       "      <td>62</td>\n",
       "      <td>18</td>\n",
       "      <td>8</td>\n",
       "      <td>12</td>\n",
       "      <td>58</td>\n",
       "      <td>53</td>\n",
       "      <td>5</td>\n",
       "      <td>54.4</td>\n",
       "      <td>MG</td>\n",
       "    </tr>\n",
       "    <tr>\n",
       "      <th>4</th>\n",
       "      <td>2009</td>\n",
       "      <td>5</td>\n",
       "      <td>Palmeiras</td>\n",
       "      <td>62</td>\n",
       "      <td>17</td>\n",
       "      <td>11</td>\n",
       "      <td>10</td>\n",
       "      <td>58</td>\n",
       "      <td>45</td>\n",
       "      <td>13</td>\n",
       "      <td>54.4</td>\n",
       "      <td>SP</td>\n",
       "    </tr>\n",
       "  </tbody>\n",
       "</table>\n",
       "</div>"
      ],
      "text/plain": [
       "    ano  posicao           time  pontos  vitorias  empates  derrotas  golsPro  \\\n",
       "0  2009        1       Flamengo      67        19       10         9       58   \n",
       "1  2009        2  Internacional      65        19        8        11       65   \n",
       "2  2009        3      Sao Paulo      65        18       11         9       57   \n",
       "3  2009        4       Cruzeiro      62        18        8        12       58   \n",
       "4  2009        5      Palmeiras      62        17       11        10       58   \n",
       "\n",
       "   golsContra saldoGols  aproveitamento estados  \n",
       "0          44        14            58.8      RJ  \n",
       "1          44        21            57.0      RS  \n",
       "2          42        15            57.0      SP  \n",
       "3          53         5            54.4      MG  \n",
       "4          45        13            54.4      SP  "
      ]
     },
     "execution_count": 8,
     "metadata": {},
     "output_type": "execute_result"
    }
   ],
   "source": [
    "df.rename(columns={'ANO':'ano', 'Posicao':'posicao', 'Time':'time', 'Pontos':'pontos','Vitoria':'vitorias', \n",
    "                   'Empates':'empates', 'Derrotas':'derrotas', 'Gols pro':'golsPro', 'Gols Contra':'golsContra', \n",
    "                   'Saldo Gols':'saldoGols','Aproveitamento':'aproveitamento', 'Estados':'estados'}, inplace=True)\n",
    "df.head()"
   ]
  },
  {
   "cell_type": "markdown",
   "metadata": {},
   "source": [
    "#### Estatística dos dados"
   ]
  },
  {
   "cell_type": "code",
   "execution_count": 9,
   "metadata": {},
   "outputs": [
    {
     "data": {
      "text/html": [
       "<div>\n",
       "<style scoped>\n",
       "    .dataframe tbody tr th:only-of-type {\n",
       "        vertical-align: middle;\n",
       "    }\n",
       "\n",
       "    .dataframe tbody tr th {\n",
       "        vertical-align: top;\n",
       "    }\n",
       "\n",
       "    .dataframe thead th {\n",
       "        text-align: right;\n",
       "    }\n",
       "</style>\n",
       "<table border=\"1\" class=\"dataframe\">\n",
       "  <thead>\n",
       "    <tr style=\"text-align: right;\">\n",
       "      <th></th>\n",
       "      <th>pontos</th>\n",
       "      <th>vitorias</th>\n",
       "      <th>empates</th>\n",
       "      <th>derrotas</th>\n",
       "      <th>golsPro</th>\n",
       "      <th>golsContra</th>\n",
       "      <th>aproveitamento</th>\n",
       "    </tr>\n",
       "  </thead>\n",
       "  <tbody>\n",
       "    <tr>\n",
       "      <th>count</th>\n",
       "      <td>200.000000</td>\n",
       "      <td>200.000000</td>\n",
       "      <td>200.000000</td>\n",
       "      <td>200.000000</td>\n",
       "      <td>200.000000</td>\n",
       "      <td>200.000000</td>\n",
       "      <td>200.000000</td>\n",
       "    </tr>\n",
       "    <tr>\n",
       "      <th>mean</th>\n",
       "      <td>51.790000</td>\n",
       "      <td>13.855000</td>\n",
       "      <td>10.280000</td>\n",
       "      <td>13.865000</td>\n",
       "      <td>46.920000</td>\n",
       "      <td>46.950000</td>\n",
       "      <td>45.356000</td>\n",
       "    </tr>\n",
       "    <tr>\n",
       "      <th>std</th>\n",
       "      <td>11.625907</td>\n",
       "      <td>3.967706</td>\n",
       "      <td>2.528551</td>\n",
       "      <td>4.179007</td>\n",
       "      <td>10.234615</td>\n",
       "      <td>10.034989</td>\n",
       "      <td>10.216961</td>\n",
       "    </tr>\n",
       "    <tr>\n",
       "      <th>min</th>\n",
       "      <td>20.000000</td>\n",
       "      <td>4.000000</td>\n",
       "      <td>3.000000</td>\n",
       "      <td>4.000000</td>\n",
       "      <td>18.000000</td>\n",
       "      <td>22.000000</td>\n",
       "      <td>17.000000</td>\n",
       "    </tr>\n",
       "    <tr>\n",
       "      <th>25%</th>\n",
       "      <td>44.000000</td>\n",
       "      <td>11.000000</td>\n",
       "      <td>9.000000</td>\n",
       "      <td>11.000000</td>\n",
       "      <td>39.000000</td>\n",
       "      <td>40.000000</td>\n",
       "      <td>38.900000</td>\n",
       "    </tr>\n",
       "    <tr>\n",
       "      <th>50%</th>\n",
       "      <td>51.000000</td>\n",
       "      <td>14.000000</td>\n",
       "      <td>10.000000</td>\n",
       "      <td>14.000000</td>\n",
       "      <td>47.500000</td>\n",
       "      <td>46.000000</td>\n",
       "      <td>44.850000</td>\n",
       "    </tr>\n",
       "    <tr>\n",
       "      <th>75%</th>\n",
       "      <td>59.000000</td>\n",
       "      <td>16.000000</td>\n",
       "      <td>12.000000</td>\n",
       "      <td>17.000000</td>\n",
       "      <td>53.000000</td>\n",
       "      <td>53.000000</td>\n",
       "      <td>52.000000</td>\n",
       "    </tr>\n",
       "    <tr>\n",
       "      <th>max</th>\n",
       "      <td>81.000000</td>\n",
       "      <td>24.000000</td>\n",
       "      <td>17.000000</td>\n",
       "      <td>28.000000</td>\n",
       "      <td>77.000000</td>\n",
       "      <td>79.000000</td>\n",
       "      <td>71.000000</td>\n",
       "    </tr>\n",
       "  </tbody>\n",
       "</table>\n",
       "</div>"
      ],
      "text/plain": [
       "           pontos    vitorias     empates    derrotas     golsPro  golsContra  \\\n",
       "count  200.000000  200.000000  200.000000  200.000000  200.000000  200.000000   \n",
       "mean    51.790000   13.855000   10.280000   13.865000   46.920000   46.950000   \n",
       "std     11.625907    3.967706    2.528551    4.179007   10.234615   10.034989   \n",
       "min     20.000000    4.000000    3.000000    4.000000   18.000000   22.000000   \n",
       "25%     44.000000   11.000000    9.000000   11.000000   39.000000   40.000000   \n",
       "50%     51.000000   14.000000   10.000000   14.000000   47.500000   46.000000   \n",
       "75%     59.000000   16.000000   12.000000   17.000000   53.000000   53.000000   \n",
       "max     81.000000   24.000000   17.000000   28.000000   77.000000   79.000000   \n",
       "\n",
       "       aproveitamento  \n",
       "count      200.000000  \n",
       "mean        45.356000  \n",
       "std         10.216961  \n",
       "min         17.000000  \n",
       "25%         38.900000  \n",
       "50%         44.850000  \n",
       "75%         52.000000  \n",
       "max         71.000000  "
      ]
     },
     "execution_count": 9,
     "metadata": {},
     "output_type": "execute_result"
    }
   ],
   "source": [
    "desc = df.drop(['ano', 'posicao'], axis=1)\n",
    "desc.describe()"
   ]
  },
  {
   "cell_type": "markdown",
   "metadata": {},
   "source": [
    "#### % de dados nulos e duplicados"
   ]
  },
  {
   "cell_type": "code",
   "execution_count": 10,
   "metadata": {
    "colab": {
     "base_uri": "https://localhost:8080/",
     "height": 238
    },
    "colab_type": "code",
    "executionInfo": {
     "elapsed": 621,
     "status": "ok",
     "timestamp": 1582244025428,
     "user": {
      "displayName": "LILIANE LOURENÇA",
      "photoUrl": "https://lh3.googleusercontent.com/a-/AAuE7mDinwN-cS0D8YXApFFirZhsARtKZ-1bmYY_0am50Q=s64",
      "userId": "01589378809252939986"
     },
     "user_tz": 180
    },
    "id": "Y4ZCRwvoF2tM",
    "outputId": "e91a9433-88c7-408c-c76f-be9e0a1ccdec"
   },
   "outputs": [
    {
     "name": "stdout",
     "output_type": "stream",
     "text": [
      "% de dados ausentes:\n",
      "ano               0.0\n",
      "posicao           0.0\n",
      "time              0.0\n",
      "pontos            0.0\n",
      "vitorias          0.0\n",
      "empates           0.0\n",
      "derrotas          0.0\n",
      "golsPro           0.0\n",
      "golsContra        0.0\n",
      "saldoGols         0.0\n",
      "aproveitamento    0.0\n",
      "estados           0.0\n",
      "dtype: float64%\n"
     ]
    }
   ],
   "source": [
    "print('% de dados ausentes:\\n{}%'.format(df.isnull().mean()*100))"
   ]
  },
  {
   "cell_type": "code",
   "execution_count": 11,
   "metadata": {
    "colab": {
     "base_uri": "https://localhost:8080/",
     "height": 34
    },
    "colab_type": "code",
    "executionInfo": {
     "elapsed": 612,
     "status": "ok",
     "timestamp": 1582244058340,
     "user": {
      "displayName": "LILIANE LOURENÇA",
      "photoUrl": "https://lh3.googleusercontent.com/a-/AAuE7mDinwN-cS0D8YXApFFirZhsARtKZ-1bmYY_0am50Q=s64",
      "userId": "01589378809252939986"
     },
     "user_tz": 180
    },
    "id": "yFOB8Rw3F_P7",
    "outputId": "45a72760-067b-478a-a88a-210eb4f4b0f0"
   },
   "outputs": [
    {
     "name": "stdout",
     "output_type": "stream",
     "text": [
      "% de dados duplicados:\n",
      "0.0%\n"
     ]
    }
   ],
   "source": [
    "print('% de dados duplicados:\\n{}%'.format(df.duplicated().mean()*100))"
   ]
  },
  {
   "cell_type": "markdown",
   "metadata": {
    "colab_type": "text",
    "id": "rEv-o2tmMEeQ"
   },
   "source": [
    "#### Visualizando os dados"
   ]
  },
  {
   "cell_type": "markdown",
   "metadata": {},
   "source": [
    "#### Quantidade de vitórias por time"
   ]
  },
  {
   "cell_type": "code",
   "execution_count": 12,
   "metadata": {
    "colab": {
     "base_uri": "https://localhost:8080/",
     "height": 433
    },
    "colab_type": "code",
    "executionInfo": {
     "elapsed": 905,
     "status": "ok",
     "timestamp": 1582245182709,
     "user": {
      "displayName": "LILIANE LOURENÇA",
      "photoUrl": "https://lh3.googleusercontent.com/a-/AAuE7mDinwN-cS0D8YXApFFirZhsARtKZ-1bmYY_0am50Q=s64",
      "userId": "01589378809252939986"
     },
     "user_tz": 180
    },
    "id": "JTSFzdwuClzE",
    "outputId": "96ff9d8b-736b-4694-d817-12db6b7e9d68"
   },
   "outputs": [
    {
     "data": {
      "text/plain": [
       "<matplotlib.axes._subplots.AxesSubplot at 0x7fcbf3cae6a0>"
      ]
     },
     "execution_count": 12,
     "metadata": {},
     "output_type": "execute_result"
    },
    {
     "data": {
      "image/png": "[encoded data removed]",
      "text/plain": [
       "<Figure size 720x360 with 1 Axes>"
      ]
     },
     "metadata": {
      "needs_background": "light"
     },
     "output_type": "display_data"
    }
   ],
   "source": [
    "plt.figure(figsize=(10, 5))\n",
    "plt.xlabel('Time')\n",
    "plt.ylabel('Vitorias')\n",
    "plt.ylim(0, 180)\n",
    "df.groupby(['time'])['vitorias'].sum().sort_values(ascending=False).plot.bar(title='Vitorias por time', color='g')"
   ]
  },
  {
   "cell_type": "markdown",
   "metadata": {},
   "source": [
    "#### Quantidade de derrotas por time"
   ]
  },
  {
   "cell_type": "code",
   "execution_count": 13,
   "metadata": {
    "colab": {
     "base_uri": "https://localhost:8080/",
     "height": 433
    },
    "colab_type": "code",
    "executionInfo": {
     "elapsed": 961,
     "status": "ok",
     "timestamp": 1582245175546,
     "user": {
      "displayName": "LILIANE LOURENÇA",
      "photoUrl": "https://lh3.googleusercontent.com/a-/AAuE7mDinwN-cS0D8YXApFFirZhsARtKZ-1bmYY_0am50Q=s64",
      "userId": "01589378809252939986"
     },
     "user_tz": 180
    },
    "id": "mnq_8oDCKKsS",
    "outputId": "50466684-3615-4105-c3a6-d8e241d37cde"
   },
   "outputs": [
    {
     "data": {
      "text/plain": [
       "<matplotlib.axes._subplots.AxesSubplot at 0x7fcbf3c99eb8>"
      ]
     },
     "execution_count": 13,
     "metadata": {},
     "output_type": "execute_result"
    },
    {
     "data": {
      "image/png": "[encoded data removed]",
      "text/plain": [
       "<Figure size 720x360 with 1 Axes>"
      ]
     },
     "metadata": {
      "needs_background": "light"
     },
     "output_type": "display_data"
    }
   ],
   "source": [
    "plt.figure(figsize=(10, 5))\n",
    "plt.xlabel('Time')\n",
    "plt.ylabel('Derrotas')\n",
    "plt.ylim(0, 140)\n",
    "df.groupby(['time'])['derrotas'].sum().sort_values(ascending=False).plot.bar(title='Derrotas por time', color='r')"
   ]
  },
  {
   "cell_type": "code",
   "execution_count": 14,
   "metadata": {
    "colab": {
     "base_uri": "https://localhost:8080/",
     "height": 433
    },
    "colab_type": "code",
    "executionInfo": {
     "elapsed": 968,
     "status": "ok",
     "timestamp": 1582245317766,
     "user": {
      "displayName": "LILIANE LOURENÇA",
      "photoUrl": "https://lh3.googleusercontent.com/a-/AAuE7mDinwN-cS0D8YXApFFirZhsARtKZ-1bmYY_0am50Q=s64",
      "userId": "01589378809252939986"
     },
     "user_tz": 180
    },
    "id": "RRS6BvxyKkn2",
    "outputId": "6bd72629-f92a-4569-e8e9-325da2389298"
   },
   "outputs": [
    {
     "data": {
      "text/plain": [
       "<matplotlib.axes._subplots.AxesSubplot at 0x7fcbed36ad68>"
      ]
     },
     "execution_count": 14,
     "metadata": {},
     "output_type": "execute_result"
    },
    {
     "data": {
      "image/png": "[encoded data removed]",
      "text/plain": [
       "<Figure size 720x360 with 1 Axes>"
      ]
     },
     "metadata": {
      "needs_background": "light"
     },
     "output_type": "display_data"
    }
   ],
   "source": [
    "plt.figure(figsize=(10, 5))\n",
    "plt.xlabel('Time')\n",
    "plt.ylabel('Vitoria')\n",
    "plt.ylim(0, 800)\n",
    "df.groupby(['estados'])['vitorias'].sum().sort_values(ascending=False).plot.bar(title='Vitoria por UF', color='b')"
   ]
  },
  {
   "cell_type": "markdown",
   "metadata": {},
   "source": [
    "#### Quantidade de empates por time"
   ]
  },
  {
   "cell_type": "code",
   "execution_count": 15,
   "metadata": {
    "colab": {
     "base_uri": "https://localhost:8080/",
     "height": 433
    },
    "colab_type": "code",
    "executionInfo": {
     "elapsed": 928,
     "status": "ok",
     "timestamp": 1582245224989,
     "user": {
      "displayName": "LILIANE LOURENÇA",
      "photoUrl": "https://lh3.googleusercontent.com/a-/AAuE7mDinwN-cS0D8YXApFFirZhsARtKZ-1bmYY_0am50Q=s64",
      "userId": "01589378809252939986"
     },
     "user_tz": 180
    },
    "id": "dzVPwI-6KZng",
    "outputId": "ec825266-4060-4b2b-a781-a6ab13bdff86"
   },
   "outputs": [
    {
     "data": {
      "text/plain": [
       "<matplotlib.axes._subplots.AxesSubplot at 0x7fcbed2e7c18>"
      ]
     },
     "execution_count": 15,
     "metadata": {},
     "output_type": "execute_result"
    },
    {
     "data": {
      "image/png": "[encoded data removed]",
      "text/plain": [
       "<Figure size 720x360 with 1 Axes>"
      ]
     },
     "metadata": {
      "needs_background": "light"
     },
     "output_type": "display_data"
    }
   ],
   "source": [
    "plt.figure(figsize=(10, 5))\n",
    "plt.xlabel('Estados')\n",
    "plt.ylabel('Empates')\n",
    "plt.ylim(0, 120)\n",
    "df.groupby(['time'])['empates'].sum().sort_values(ascending=False).plot.bar(title='Empates por time', color='y')"
   ]
  },
  {
   "cell_type": "markdown",
   "metadata": {},
   "source": [
    "#### Média de pontos por time"
   ]
  },
  {
   "cell_type": "code",
   "execution_count": 16,
   "metadata": {
    "colab": {
     "base_uri": "https://localhost:8080/",
     "height": 433
    },
    "colab_type": "code",
    "executionInfo": {
     "elapsed": 1111,
     "status": "ok",
     "timestamp": 1582245451361,
     "user": {
      "displayName": "LILIANE LOURENÇA",
      "photoUrl": "https://lh3.googleusercontent.com/a-/AAuE7mDinwN-cS0D8YXApFFirZhsARtKZ-1bmYY_0am50Q=s64",
      "userId": "01589378809252939986"
     },
     "user_tz": 180
    },
    "id": "hqpPESQSLEmR",
    "outputId": "bd59ad82-813f-4ba0-b6b9-0513cd8a5dd8"
   },
   "outputs": [
    {
     "data": {
      "text/plain": [
       "<matplotlib.axes._subplots.AxesSubplot at 0x7fcbed1eae80>"
      ]
     },
     "execution_count": 16,
     "metadata": {},
     "output_type": "execute_result"
    },
    {
     "data": {
      "image/png": "[encoded data removed]",
      "text/plain": [
       "<Figure size 720x360 with 1 Axes>"
      ]
     },
     "metadata": {
      "needs_background": "light"
     },
     "output_type": "display_data"
    }
   ],
   "source": [
    "plt.figure(figsize=(10, 5))\n",
    "plt.xlabel('Time')\n",
    "plt.ylabel('Média de pontos')\n",
    "plt.ylim(0, 70)\n",
    "round(df.groupby(['time'])['pontos'].mean().sort_values(ascending=False), 2).plot.bar(title='Média de pontos por time', color='purple')"
   ]
  },
  {
   "cell_type": "markdown",
   "metadata": {},
   "source": [
    "#### Aproveitamento por  time"
   ]
  },
  {
   "cell_type": "code",
   "execution_count": 23,
   "metadata": {},
   "outputs": [
    {
     "data": {
      "text/plain": [
       "<matplotlib.axes._subplots.AxesSubplot at 0x7fcbec8ccf28>"
      ]
     },
     "execution_count": 23,
     "metadata": {},
     "output_type": "execute_result"
    },
    {
     "data": {
      "image/png": "[encoded data removed]",
      "text/plain": [
       "<Figure size 720x360 with 1 Axes>"
      ]
     },
     "metadata": {},
     "output_type": "display_data"
    }
   ],
   "source": [
    "plt.figure(figsize=(10, 5))\n",
    "plt.xlabel('Time')\n",
    "plt.ylabel('Aproveitamento')\n",
    "plt.ylim(0, 600)\n",
    "round(df.groupby(['time'])['aproveitamento'].sum().sort_values(ascending=False), 2).plot.bar(title='Aproveitamento por time', \n",
    "                                                                                      color='darkGray')"
   ]
  },
  {
   "cell_type": "markdown",
   "metadata": {},
   "source": [
    "#### Top 10 dos times que fizeram mais gols"
   ]
  },
  {
   "cell_type": "code",
   "execution_count": 37,
   "metadata": {},
   "outputs": [
    {
     "data": {
      "text/plain": [
       "<matplotlib.axes._subplots.AxesSubplot at 0x7fcbeb5c1048>"
      ]
     },
     "execution_count": 37,
     "metadata": {},
     "output_type": "execute_result"
    },
    {
     "data": {
      "image/png": "[encoded data removed]",
      "text/plain": [
       "<Figure size 720x360 with 1 Axes>"
      ]
     },
     "metadata": {},
     "output_type": "display_data"
    }
   ],
   "source": [
    "plt.figure(figsize=(10, 5))\n",
    "plt.xlabel('Total de gols feitos')\n",
    "plt.ylim(0, 600)\n",
    "\n",
    "df.groupby(['time'])['golsPro'].sum().sort_values(ascending=False).head(10).plot.barh(title='Top 10 dos times que fizeram mais gol',\n",
    "                                                                                      color='aquamarine')"
   ]
  },
  {
   "cell_type": "markdown",
   "metadata": {},
   "source": [
    "#### Top 10 dos times que sofreram mais gols"
   ]
  },
  {
   "cell_type": "code",
   "execution_count": 38,
   "metadata": {},
   "outputs": [
    {
     "data": {
      "text/plain": [
       "<matplotlib.axes._subplots.AxesSubplot at 0x7fcbeb6cd7b8>"
      ]
     },
     "execution_count": 38,
     "metadata": {},
     "output_type": "execute_result"
    },
    {
     "data": {
      "image/png": "[encoded data removed]",
      "text/plain": [
       "<Figure size 720x360 with 1 Axes>"
      ]
     },
     "metadata": {},
     "output_type": "display_data"
    }
   ],
   "source": [
    "plt.figure(figsize=(10, 5))\n",
    "plt.xlabel('Total de gols sofridos')\n",
    "plt.ylim(0, 600)\n",
    "\n",
    "df.groupby(['time'])['golsContra'].sum().sort_values(ascending=False).head(10).plot.barh(title='Top 10 dos times que sofreram mais gol',\n",
    "                                                                                      color='indianRed')"
   ]
  }
 ],
 "metadata": {
  "colab": {
   "collapsed_sections": [],
   "name": "Copy of Aula #16.ipynb",
   "provenance": [
    {
     "file_id": "13iRWCP36cf5nXmX2Od6mXgeLwFYc9nI-",
     "timestamp": 1582245651825
    },
    {
     "file_id": "1r9cx96BCbr1OsJk0ozCnKGPbencyUcaU",
     "timestamp": 1582070157443
    }
   ]
  },
  "kernelspec": {
   "display_name": "Python 3",
   "language": "python",
   "name": "python3"
  },
  "language_info": {
   "codemirror_mode": {
    "name": "ipython",
    "version": 3
   },
   "file_extension": ".py",
   "mimetype": "text/x-python",
   "name": "python",
   "nbconvert_exporter": "python",
   "pygments_lexer": "ipython3",
   "version": "3.7.3"
  }
 },
 "nbformat": 4,
 "nbformat_minor": 1
}
