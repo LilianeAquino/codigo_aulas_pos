{
  "nbformat": 4,
  "nbformat_minor": 0,
  "metadata": {
    "colab": {
      "name": "padroes-frequentes2",
      "provenance": []
    },
    "kernelspec": {
      "name": "python3",
      "display_name": "Python 3"
    }
  },
  "cells": [
    {
      "cell_type": "code",
      "metadata": {
        "id": "j1SdEh9luJB2",
        "colab_type": "code",
        "outputId": "70b46e60-cc9e-42cb-ae04-e31354827048",
        "colab": {
          "base_uri": "https://localhost:8080/",
          "height": 71
        }
      },
      "source": [
        "!curl --remote-name \\\n",
        "     -H 'Accept: application/vnd.github.v3.raw' \\\n",
        "      http://fimi.uantwerpen.be/data/retail.dat"
      ],
      "execution_count": 0,
      "outputs": [
        {
          "output_type": "stream",
          "text": [
            "  % Total    % Received % Xferd  Average Speed   Time    Time     Time  Current\n",
            "                                 Dload  Upload   Total   Spent    Left  Speed\n",
            "100 4069k  100 4069k    0     0  2860k      0  0:00:01  0:00:01 --:--:-- 2860k\n"
          ],
          "name": "stdout"
        }
      ]
    },
    {
      "cell_type": "code",
      "metadata": {
        "id": "B08_GPa2uTP4",
        "colab_type": "code",
        "outputId": "5de895be-d403-46f7-c3ed-b89244edd0cd",
        "colab": {
          "base_uri": "https://localhost:8080/",
          "height": 575
        }
      },
      "source": [
        "! pip uninstall mlxtend\n",
        "! pip install git+https://github.com/rasbt/mlxtend.git\n",
        "\n",
        "import pandas as pd\n",
        "from mlxtend.preprocessing import TransactionEncoder\n",
        "from mlxtend.frequent_patterns import apriori"
      ],
      "execution_count": 0,
      "outputs": [
        {
          "output_type": "stream",
          "text": [
            "Uninstalling mlxtend-0.14.0:\n",
            "  Would remove:\n",
            "    /usr/local/lib/python3.6/dist-packages/mlxtend-0.14.0.dist-info/*\n",
            "    /usr/local/lib/python3.6/dist-packages/mlxtend/*\n",
            "Proceed (y/n)? n\n",
            "Collecting git+https://github.com/rasbt/mlxtend.git\n",
            "  Cloning https://github.com/rasbt/mlxtend.git to /tmp/pip-req-build-6wko4_1q\n",
            "  Running command git clone -q https://github.com/rasbt/mlxtend.git /tmp/pip-req-build-6wko4_1q\n",
            "Requirement already satisfied: scipy>=1.2.1 in /usr/local/lib/python3.6/dist-packages (from mlxtend==0.18.0.dev0) (1.4.1)\n",
            "Requirement already satisfied: numpy>=1.16.2 in /usr/local/lib/python3.6/dist-packages (from mlxtend==0.18.0.dev0) (1.18.4)\n",
            "Requirement already satisfied: pandas>=0.24.2 in /usr/local/lib/python3.6/dist-packages (from mlxtend==0.18.0.dev0) (1.0.3)\n",
            "Requirement already satisfied: scikit-learn>=0.20.3 in /usr/local/lib/python3.6/dist-packages (from mlxtend==0.18.0.dev0) (0.22.2.post1)\n",
            "Requirement already satisfied: matplotlib>=3.0.0 in /usr/local/lib/python3.6/dist-packages (from mlxtend==0.18.0.dev0) (3.2.1)\n",
            "Requirement already satisfied: joblib>=0.13.2 in /usr/local/lib/python3.6/dist-packages (from mlxtend==0.18.0.dev0) (0.15.1)\n",
            "Requirement already satisfied: setuptools in /usr/local/lib/python3.6/dist-packages (from mlxtend==0.18.0.dev0) (46.4.0)\n",
            "Requirement already satisfied: python-dateutil>=2.6.1 in /usr/local/lib/python3.6/dist-packages (from pandas>=0.24.2->mlxtend==0.18.0.dev0) (2.8.1)\n",
            "Requirement already satisfied: pytz>=2017.2 in /usr/local/lib/python3.6/dist-packages (from pandas>=0.24.2->mlxtend==0.18.0.dev0) (2018.9)\n",
            "Requirement already satisfied: cycler>=0.10 in /usr/local/lib/python3.6/dist-packages (from matplotlib>=3.0.0->mlxtend==0.18.0.dev0) (0.10.0)\n",
            "Requirement already satisfied: pyparsing!=2.0.4,!=2.1.2,!=2.1.6,>=2.0.1 in /usr/local/lib/python3.6/dist-packages (from matplotlib>=3.0.0->mlxtend==0.18.0.dev0) (2.4.7)\n",
            "Requirement already satisfied: kiwisolver>=1.0.1 in /usr/local/lib/python3.6/dist-packages (from matplotlib>=3.0.0->mlxtend==0.18.0.dev0) (1.2.0)\n",
            "Requirement already satisfied: six>=1.5 in /usr/local/lib/python3.6/dist-packages (from python-dateutil>=2.6.1->pandas>=0.24.2->mlxtend==0.18.0.dev0) (1.12.0)\n",
            "Building wheels for collected packages: mlxtend\n",
            "  Building wheel for mlxtend (setup.py) ... \u001b[?25l\u001b[?25hdone\n",
            "  Created wheel for mlxtend: filename=mlxtend-0.18.0.dev0-py2.py3-none-any.whl size=1580752 sha256=029b7f2c1003d13c17f7c2bc469dc3374fcb94f05c83832c17d5f286587720e9\n",
            "  Stored in directory: /tmp/pip-ephem-wheel-cache-uckl2pow/wheels/ea/3f/f8/8facd558a8038cf0ea77a28cd1ede5de977b9d9e1e9367f9de\n",
            "Successfully built mlxtend\n",
            "Installing collected packages: mlxtend\n",
            "  Found existing installation: mlxtend 0.14.0\n",
            "    Uninstalling mlxtend-0.14.0:\n",
            "      Successfully uninstalled mlxtend-0.14.0\n",
            "Successfully installed mlxtend-0.18.0.dev0\n"
          ],
          "name": "stdout"
        }
      ]
    },
    {
      "cell_type": "code",
      "metadata": {
        "id": "dwn6oD82x3v0",
        "colab_type": "code",
        "colab": {}
      },
      "source": [
        "with open('retail.dat', 'r') as fhand:\n",
        "    file_lines = [line[:-1] for line in fhand if line.strip() != ''] # remove the last character '\\n'. **Remove empty lines**.\n",
        "dataset = [[int(term) for term in line.split()] for line in file_lines]\n"
      ],
      "execution_count": 0,
      "outputs": []
    },
    {
      "cell_type": "code",
      "metadata": {
        "id": "lQE-LsX5zFDo",
        "colab_type": "code",
        "colab": {}
      },
      "source": [
        ""
      ],
      "execution_count": 0,
      "outputs": []
    }
  ]
}